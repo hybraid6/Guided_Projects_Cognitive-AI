{
 "cells": [
  {
   "cell_type": "markdown",
   "metadata": {},
   "source": [
    "## **Basic statistical analysis in HealthCare**\n"
   ]
  },
  {
   "cell_type": "markdown",
   "metadata": {},
   "source": [
    "## Abstract\n"
   ]
  },
  {
   "cell_type": "markdown",
   "metadata": {},
   "source": [
    "This lab is dedicated to downloading, pre-preparing and making statistical analysis of ELISA tests and collected information about IgG and IgM, influenza vaccination, tuberculosis vaccination and previous diseases, blood group respondents have. \n"
   ]
  },
  {
   "cell_type": "markdown",
   "metadata": {},
   "source": [
    "## Introduction\n"
   ]
  },
  {
   "cell_type": "markdown",
   "metadata": {},
   "source": [
    "The main problem to be solved in this laboratory is the download and statistical analysis of a DataSet. \n",
    "\n",
    "The basic difficulty of statistical analysis of real data is that it is prepared or presented in a form that is not convenient for machine methods of statistical analysis. Therefore, this lab shows methods of automatic pre-preparation of real data for such cases. The next problem is the ability to competently manipulate and transform big data in order to obtain a convenient statistical report both in tabular form and in the form of graphs.\n",
    "\n",
    "Therefore, the main goal that we are to achieve in this lab is learning how to download, pre-process and conduct basic statistical analysis of personal data obtained during the people survey using modern methods of DataMining.\n"
   ]
  },
  {
   "cell_type": "markdown",
   "metadata": {},
   "source": [
    "## Materials and methods\n"
   ]
  },
  {
   "cell_type": "markdown",
   "metadata": {},
   "source": [
    "In this lab, we will learn the methods of statistical analysis of data obtained via a people survey on the disease of COVID-19. The laboratory consists of three stages:\n",
    "* Data download\n",
    "* Data preparation\n",
    "* Statistical analysis\n",
    "* Data visualization\n",
    "\n",
    "The first stage will show you how to download spreadsheet data:\n",
    "* indexing of key fields\n",
    "* working with data types such as datatime\n",
    "* writing a parser function to automatically create index fields\n",
    "\n",
    "At the next stage, it will be demonstrated how to pre-prepare data for analysis, in particular:\n",
    "* elimination of missing data\n",
    "* replacement and change of cell data\n",
    "* change the data types of columns\n",
    "\n",
    "At the stage of statistical analysis, the methods of automation of statistical information calculation will be demonstrated, in particular:\n",
    "* calculation of basic statistical indicators\n",
    "* data sorting and grouping\n",
    "* data transformation DataSet\n",
    "* calculation of statistical indicators on the transformed data\n",
    "\n",
    "At the stage of visualization, the possibilities of visualization of the received statistical indicators will be shown.\n"
   ]
  },
  {
   "cell_type": "markdown",
   "metadata": {},
   "source": [
    "The statistical data obtained during a survey by scientists of the Department of Artificial Intelligence Systems of the National University of Lviv Polytechnic will be used in this lab.\n",
    "The research was proved accordingly grant 305.2825-20 Stop COVID'19 of Central European Initiative (CEI)\n"
   ]
  },
  {
   "cell_type": "markdown",
   "metadata": {},
   "source": [
    "## Prerequisites\n",
    "* Python,\n",
    "* Pandas, https://pandas.pydata.org\n",
    "* SeaBorn, https://seaborn.pydata.org \n",
    "* Statistics\n"
   ]
  },
  {
   "cell_type": "markdown",
   "metadata": {},
   "source": [
    "## Objectives\n"
   ]
  },
  {
   "cell_type": "markdown",
   "metadata": {},
   "source": [
    "After completing this lab, you will be able to:\n"
   ]
  },
  {
   "cell_type": "markdown",
   "metadata": {},
   "source": [
    "* Download a DataSet from *.xlsx files\n",
    "* Automatically change data in the DataSet\n",
    "* Transform the table\n",
    "* Visualize the data with pandas and seaborn\n",
    "* Expect\n",
    "     * Minimum and maximum value\n",
    "     * Average\n",
    "     * Quarters\n",
    "     * Pivot tables\n"
   ]
  },
  {
   "cell_type": "markdown",
   "metadata": {},
   "source": [
    "## Import Libraries/Define Auxiliary Functions\n"
   ]
  },
  {
   "cell_type": "markdown",
   "metadata": {},
   "source": [
    "**Running outside Skills Network Labs.** This notebook was tested within Skills Network Labs. Running in another environment should work as well, but is not guaranteed and may require different setup routine.\n"
   ]
  },
  {
   "cell_type": "markdown",
   "metadata": {},
   "source": [
    "Libraries such as Pandas, MatplotLib and SeaBorn should be installed.\n"
   ]
  },
  {
   "cell_type": "code",
   "execution_count": 1,
   "metadata": {
    "tags": []
   },
   "outputs": [
    {
     "name": "stdout",
     "output_type": "stream",
     "text": [
      "Preparing transaction: ...working... done\n",
      "Verifying transaction: ...working... done\n",
      "Executing transaction: ...working... done\n"
     ]
    }
   ],
   "source": [
    "# If not using SN-Labs, uncomment the following line to install the required libraries:\n",
    "# !mamba install -qy -c conda-forge pandas==0.25.1 matplotlib seaborn==0.9.0\n",
    "!mamba install -qy openpyxl"
   ]
  },
  {
   "cell_type": "markdown",
   "metadata": {},
   "source": [
    "## Download data from a .xlsx file\n"
   ]
  },
  {
   "cell_type": "markdown",
   "metadata": {},
   "source": [
    "Some libraries should be imported before you can begin.\n"
   ]
  },
  {
   "cell_type": "code",
   "execution_count": 2,
   "metadata": {
    "tags": []
   },
   "outputs": [],
   "source": [
    "import openpyxl\n",
    "import pandas as pd\n",
    "from datetime import datetime"
   ]
  },
  {
   "cell_type": "markdown",
   "metadata": {},
   "source": [
    "The next step is to download the file data from the repository by **[read_excel()](https://pandas.pydata.org/docs/reference/api/pandas.read_excel.html?utm_medium=Exinfluencer&utm_source=Exinfluencer&utm_content=000026UJ&utm_term=10006555&utm_id=NA-SkillsNetwork-Channel-SkillsNetworkGuidedProjectsdatascienceinhealthcarebasicstatisticalanalysis507-2022-01-01)**\n"
   ]
  },
  {
   "cell_type": "code",
   "execution_count": 3,
   "metadata": {
    "tags": []
   },
   "outputs": [],
   "source": [
    "df = pd.read_excel(\n",
    "    'https://cf-courses-data.s3.us.cloud-object-storage.appdomain.cloud/data-science-in-health-care-basic-statistical-analysis/COVID_19.xlsx',\n",
    "    'Sheet1')"
   ]
  },
  {
   "cell_type": "markdown",
   "metadata": {},
   "source": [
    "Now let's look at our DataSet.\n"
   ]
  },
  {
   "cell_type": "code",
   "execution_count": 5,
   "metadata": {
    "tags": []
   },
   "outputs": [
    {
     "data": {
      "text/plain": [
       "(3308, 14)"
      ]
     },
     "execution_count": 5,
     "metadata": {},
     "output_type": "execute_result"
    }
   ],
   "source": [
    "df.shape"
   ]
  },
  {
   "cell_type": "code",
   "execution_count": 6,
   "metadata": {
    "tags": []
   },
   "outputs": [
    {
     "data": {
      "text/html": [
       "<div>\n",
       "<style scoped>\n",
       "    .dataframe tbody tr th:only-of-type {\n",
       "        vertical-align: middle;\n",
       "    }\n",
       "\n",
       "    .dataframe tbody tr th {\n",
       "        vertical-align: top;\n",
       "    }\n",
       "\n",
       "    .dataframe thead th {\n",
       "        text-align: right;\n",
       "    }\n",
       "</style>\n",
       "<table border=\"1\" class=\"dataframe\">\n",
       "  <thead>\n",
       "    <tr style=\"text-align: right;\">\n",
       "      <th></th>\n",
       "      <th>Date time</th>\n",
       "      <th>Age</th>\n",
       "      <th>Gender</th>\n",
       "      <th>Region</th>\n",
       "      <th>Do you smoke?</th>\n",
       "      <th>Have you had Covid`19 this year?</th>\n",
       "      <th>IgM level</th>\n",
       "      <th>IgG level</th>\n",
       "      <th>Blood group</th>\n",
       "      <th>Do you vaccinated influenza?</th>\n",
       "      <th>Do you vaccinated tuberculosis?</th>\n",
       "      <th>Have you had influenza this year?</th>\n",
       "      <th>Have you had tuberculosis this year?</th>\n",
       "      <th>Maximum body temperature</th>\n",
       "    </tr>\n",
       "  </thead>\n",
       "  <tbody>\n",
       "    <tr>\n",
       "      <th>0</th>\n",
       "      <td>2020-09-20 11:23:15</td>\n",
       "      <td>40-65</td>\n",
       "      <td>Female (Жінка)</td>\n",
       "      <td>Ukraine, Lviv (Львів)</td>\n",
       "      <td>No</td>\n",
       "      <td>Maybe (можливо)</td>\n",
       "      <td>&lt;0.9 (negative/негативний)</td>\n",
       "      <td>0.9-1.1 (indefinable/невизначений)</td>\n",
       "      <td>2.0</td>\n",
       "      <td>Yes</td>\n",
       "      <td>Yes</td>\n",
       "      <td>No</td>\n",
       "      <td>No</td>\n",
       "      <td>38.1</td>\n",
       "    </tr>\n",
       "    <tr>\n",
       "      <th>1</th>\n",
       "      <td>2020-09-20 11:23:15</td>\n",
       "      <td>23-40</td>\n",
       "      <td>Female (Жінка)</td>\n",
       "      <td>Ukraine, Chernivtsi</td>\n",
       "      <td>No</td>\n",
       "      <td>Yes</td>\n",
       "      <td>&gt;1.1 (positive/позитивний)</td>\n",
       "      <td>0.9-1.1 (indefinable/невизначений)</td>\n",
       "      <td>2.0</td>\n",
       "      <td>No</td>\n",
       "      <td>Yes</td>\n",
       "      <td>No</td>\n",
       "      <td>No</td>\n",
       "      <td>37.0</td>\n",
       "    </tr>\n",
       "    <tr>\n",
       "      <th>2</th>\n",
       "      <td>2020-09-20 11:23:15</td>\n",
       "      <td>23-40</td>\n",
       "      <td>Female (Жінка)</td>\n",
       "      <td>Ukraine, Lviv (Львів)</td>\n",
       "      <td>No</td>\n",
       "      <td>Maybe (можливо)</td>\n",
       "      <td>&lt;0.9 (negative/негативний)</td>\n",
       "      <td>&lt;0.9 (negative/негативний)</td>\n",
       "      <td>2.0</td>\n",
       "      <td>No</td>\n",
       "      <td>Yes</td>\n",
       "      <td>Yes</td>\n",
       "      <td>No</td>\n",
       "      <td>37.8</td>\n",
       "    </tr>\n",
       "    <tr>\n",
       "      <th>3</th>\n",
       "      <td>2020-09-20 11:23:15</td>\n",
       "      <td>40-65</td>\n",
       "      <td>Male (Чоловік)</td>\n",
       "      <td>Ukraine, Chernivtsi</td>\n",
       "      <td>No</td>\n",
       "      <td>No</td>\n",
       "      <td>&lt;0.9 (negative/негативний)</td>\n",
       "      <td>&lt;0.9 (negative/негативний)</td>\n",
       "      <td>2.0</td>\n",
       "      <td>No</td>\n",
       "      <td>Yes</td>\n",
       "      <td>No</td>\n",
       "      <td>No</td>\n",
       "      <td>NaN</td>\n",
       "    </tr>\n",
       "    <tr>\n",
       "      <th>4</th>\n",
       "      <td>2020-09-20 11:23:15</td>\n",
       "      <td>16-22</td>\n",
       "      <td>Male (Чоловік)</td>\n",
       "      <td>Ukraine, Lviv (Львів)</td>\n",
       "      <td>No</td>\n",
       "      <td>Yes</td>\n",
       "      <td>&gt;1.1 (positive/позитивний)</td>\n",
       "      <td>&lt;0.9 (negative/негативний)</td>\n",
       "      <td>1.0</td>\n",
       "      <td>No</td>\n",
       "      <td>Yes</td>\n",
       "      <td>Yes</td>\n",
       "      <td>No</td>\n",
       "      <td>37.4</td>\n",
       "    </tr>\n",
       "  </tbody>\n",
       "</table>\n",
       "</div>"
      ],
      "text/plain": [
       "            Date time    Age          Gender                 Region  \\\n",
       "0 2020-09-20 11:23:15  40-65  Female (Жінка)  Ukraine, Lviv (Львів)   \n",
       "1 2020-09-20 11:23:15  23-40  Female (Жінка)    Ukraine, Chernivtsi   \n",
       "2 2020-09-20 11:23:15  23-40  Female (Жінка)  Ukraine, Lviv (Львів)   \n",
       "3 2020-09-20 11:23:15  40-65  Male (Чоловік)    Ukraine, Chernivtsi   \n",
       "4 2020-09-20 11:23:15  16-22  Male (Чоловік)  Ukraine, Lviv (Львів)   \n",
       "\n",
       "  Do you smoke? Have you had Covid`19 this year?                   IgM level  \\\n",
       "0            No                  Maybe (можливо)  <0.9 (negative/негативний)   \n",
       "1            No                              Yes  >1.1 (positive/позитивний)   \n",
       "2            No                  Maybe (можливо)  <0.9 (negative/негативний)   \n",
       "3            No                               No  <0.9 (negative/негативний)   \n",
       "4            No                              Yes  >1.1 (positive/позитивний)   \n",
       "\n",
       "                            IgG level  Blood group  \\\n",
       "0  0.9-1.1 (indefinable/невизначений)          2.0   \n",
       "1  0.9-1.1 (indefinable/невизначений)          2.0   \n",
       "2          <0.9 (negative/негативний)          2.0   \n",
       "3          <0.9 (negative/негативний)          2.0   \n",
       "4          <0.9 (negative/негативний)          1.0   \n",
       "\n",
       "  Do you vaccinated influenza? Do you vaccinated tuberculosis?  \\\n",
       "0                          Yes                             Yes   \n",
       "1                           No                             Yes   \n",
       "2                           No                             Yes   \n",
       "3                           No                             Yes   \n",
       "4                           No                             Yes   \n",
       "\n",
       "  Have you had influenza this year? Have you had tuberculosis this year?   \\\n",
       "0                                No                                    No   \n",
       "1                                No                                    No   \n",
       "2                               Yes                                    No   \n",
       "3                                No                                    No   \n",
       "4                               Yes                                    No   \n",
       "\n",
       "   Maximum body temperature  \n",
       "0                      38.1  \n",
       "1                      37.0  \n",
       "2                      37.8  \n",
       "3                       NaN  \n",
       "4                      37.4  "
      ]
     },
     "execution_count": 6,
     "metadata": {},
     "output_type": "execute_result"
    }
   ],
   "source": [
    "df.head()"
   ]
  },
  {
   "cell_type": "markdown",
   "metadata": {},
   "source": [
    "We can see that the DataSet size is 3308 rows and 14 columns.\n"
   ]
  },
  {
   "cell_type": "markdown",
   "metadata": {},
   "source": [
    "However, this DataSet needs some change.\n"
   ]
  },
  {
   "cell_type": "markdown",
   "metadata": {},
   "source": [
    "First, you need to select the date and time from the first column as the index field. This will allow you to conveniently group the data depending on the time of its receipt.\n",
    "Since the date and time can come in different formats, it is convenient to write your own parser function which will transform any date and time format into the Python datetime format.\n",
    "In our case, we divide any date/time cells into two parts (date and time). Then we allocate only hours, minutes and seconds from time. Then we merge them again and transform them into datetime using **[strptime()](https://docs.python.org/3/library/datetime.html?utm_medium=Exinfluencer&utm_source=Exinfluencer&utm_content=000026UJ&utm_term=10006555&utm_id=NA-SkillsNetwork-Channel-SkillsNetworkGuidedProjectsdatascienceinhealthcarebasicstatisticalanalysis507-2022-01-01#datetime.date.strftime)**.\n",
    "It should also be set how the DataSet describes the missing data because it can negatively affect the statistics.\n",
    "Then we reload the data from the file.\n"
   ]
  },
  {
   "cell_type": "code",
   "execution_count": 7,
   "metadata": {
    "tags": []
   },
   "outputs": [],
   "source": [
    "def parse(x):\n",
    "    y = x.split()\n",
    "    t = y[1][:8]\n",
    "    z=y[0] + \" \" + t\n",
    "    d = datetime.strptime(z, '%Y-%m-%d %H:%M:%S')\n",
    "    return d"
   ]
  },
  {
   "cell_type": "code",
   "execution_count": 8,
   "metadata": {
    "tags": []
   },
   "outputs": [],
   "source": [
    "df = pd.read_excel(\n",
    "    'https://cf-courses-data.s3.us.cloud-object-storage.appdomain.cloud/data-science-in-health-care-basic-statistical-analysis/COVID_19.xlsx',\n",
    "    'Sheet1',\n",
    "    na_values=\"NaN\",\n",
    "    parse_dates=['Date time'],\n",
    "    index_col=0,\n",
    "    date_parser=parse)"
   ]
  },
  {
   "cell_type": "code",
   "execution_count": 9,
   "metadata": {
    "tags": []
   },
   "outputs": [
    {
     "data": {
      "text/html": [
       "<div>\n",
       "<style scoped>\n",
       "    .dataframe tbody tr th:only-of-type {\n",
       "        vertical-align: middle;\n",
       "    }\n",
       "\n",
       "    .dataframe tbody tr th {\n",
       "        vertical-align: top;\n",
       "    }\n",
       "\n",
       "    .dataframe thead th {\n",
       "        text-align: right;\n",
       "    }\n",
       "</style>\n",
       "<table border=\"1\" class=\"dataframe\">\n",
       "  <thead>\n",
       "    <tr style=\"text-align: right;\">\n",
       "      <th></th>\n",
       "      <th>Age</th>\n",
       "      <th>Gender</th>\n",
       "      <th>Region</th>\n",
       "      <th>Do you smoke?</th>\n",
       "      <th>Have you had Covid`19 this year?</th>\n",
       "      <th>IgM level</th>\n",
       "      <th>IgG level</th>\n",
       "      <th>Blood group</th>\n",
       "      <th>Do you vaccinated influenza?</th>\n",
       "      <th>Do you vaccinated tuberculosis?</th>\n",
       "      <th>Have you had influenza this year?</th>\n",
       "      <th>Have you had tuberculosis this year?</th>\n",
       "      <th>Maximum body temperature</th>\n",
       "    </tr>\n",
       "    <tr>\n",
       "      <th>Date time</th>\n",
       "      <th></th>\n",
       "      <th></th>\n",
       "      <th></th>\n",
       "      <th></th>\n",
       "      <th></th>\n",
       "      <th></th>\n",
       "      <th></th>\n",
       "      <th></th>\n",
       "      <th></th>\n",
       "      <th></th>\n",
       "      <th></th>\n",
       "      <th></th>\n",
       "      <th></th>\n",
       "    </tr>\n",
       "  </thead>\n",
       "  <tbody>\n",
       "    <tr>\n",
       "      <th>2020-09-20 11:23:15</th>\n",
       "      <td>40-65</td>\n",
       "      <td>Female (Жінка)</td>\n",
       "      <td>Ukraine, Lviv (Львів)</td>\n",
       "      <td>No</td>\n",
       "      <td>Maybe (можливо)</td>\n",
       "      <td>&lt;0.9 (negative/негативний)</td>\n",
       "      <td>0.9-1.1 (indefinable/невизначений)</td>\n",
       "      <td>2.0</td>\n",
       "      <td>Yes</td>\n",
       "      <td>Yes</td>\n",
       "      <td>No</td>\n",
       "      <td>No</td>\n",
       "      <td>38.1</td>\n",
       "    </tr>\n",
       "    <tr>\n",
       "      <th>2020-09-20 11:23:15</th>\n",
       "      <td>23-40</td>\n",
       "      <td>Female (Жінка)</td>\n",
       "      <td>Ukraine, Chernivtsi</td>\n",
       "      <td>No</td>\n",
       "      <td>Yes</td>\n",
       "      <td>&gt;1.1 (positive/позитивний)</td>\n",
       "      <td>0.9-1.1 (indefinable/невизначений)</td>\n",
       "      <td>2.0</td>\n",
       "      <td>No</td>\n",
       "      <td>Yes</td>\n",
       "      <td>No</td>\n",
       "      <td>No</td>\n",
       "      <td>37.0</td>\n",
       "    </tr>\n",
       "    <tr>\n",
       "      <th>2020-09-20 11:23:15</th>\n",
       "      <td>23-40</td>\n",
       "      <td>Female (Жінка)</td>\n",
       "      <td>Ukraine, Lviv (Львів)</td>\n",
       "      <td>No</td>\n",
       "      <td>Maybe (можливо)</td>\n",
       "      <td>&lt;0.9 (negative/негативний)</td>\n",
       "      <td>&lt;0.9 (negative/негативний)</td>\n",
       "      <td>2.0</td>\n",
       "      <td>No</td>\n",
       "      <td>Yes</td>\n",
       "      <td>Yes</td>\n",
       "      <td>No</td>\n",
       "      <td>37.8</td>\n",
       "    </tr>\n",
       "    <tr>\n",
       "      <th>2020-09-20 11:23:15</th>\n",
       "      <td>40-65</td>\n",
       "      <td>Male (Чоловік)</td>\n",
       "      <td>Ukraine, Chernivtsi</td>\n",
       "      <td>No</td>\n",
       "      <td>No</td>\n",
       "      <td>&lt;0.9 (negative/негативний)</td>\n",
       "      <td>&lt;0.9 (negative/негативний)</td>\n",
       "      <td>2.0</td>\n",
       "      <td>No</td>\n",
       "      <td>Yes</td>\n",
       "      <td>No</td>\n",
       "      <td>No</td>\n",
       "      <td>NaN</td>\n",
       "    </tr>\n",
       "    <tr>\n",
       "      <th>2020-09-20 11:23:15</th>\n",
       "      <td>16-22</td>\n",
       "      <td>Male (Чоловік)</td>\n",
       "      <td>Ukraine, Lviv (Львів)</td>\n",
       "      <td>No</td>\n",
       "      <td>Yes</td>\n",
       "      <td>&gt;1.1 (positive/позитивний)</td>\n",
       "      <td>&lt;0.9 (negative/негативний)</td>\n",
       "      <td>1.0</td>\n",
       "      <td>No</td>\n",
       "      <td>Yes</td>\n",
       "      <td>Yes</td>\n",
       "      <td>No</td>\n",
       "      <td>37.4</td>\n",
       "    </tr>\n",
       "  </tbody>\n",
       "</table>\n",
       "</div>"
      ],
      "text/plain": [
       "                       Age          Gender                 Region  \\\n",
       "Date time                                                           \n",
       "2020-09-20 11:23:15  40-65  Female (Жінка)  Ukraine, Lviv (Львів)   \n",
       "2020-09-20 11:23:15  23-40  Female (Жінка)    Ukraine, Chernivtsi   \n",
       "2020-09-20 11:23:15  23-40  Female (Жінка)  Ukraine, Lviv (Львів)   \n",
       "2020-09-20 11:23:15  40-65  Male (Чоловік)    Ukraine, Chernivtsi   \n",
       "2020-09-20 11:23:15  16-22  Male (Чоловік)  Ukraine, Lviv (Львів)   \n",
       "\n",
       "                    Do you smoke? Have you had Covid`19 this year?  \\\n",
       "Date time                                                            \n",
       "2020-09-20 11:23:15            No                  Maybe (можливо)   \n",
       "2020-09-20 11:23:15            No                              Yes   \n",
       "2020-09-20 11:23:15            No                  Maybe (можливо)   \n",
       "2020-09-20 11:23:15            No                               No   \n",
       "2020-09-20 11:23:15            No                              Yes   \n",
       "\n",
       "                                      IgM level  \\\n",
       "Date time                                         \n",
       "2020-09-20 11:23:15  <0.9 (negative/негативний)   \n",
       "2020-09-20 11:23:15  >1.1 (positive/позитивний)   \n",
       "2020-09-20 11:23:15  <0.9 (negative/негативний)   \n",
       "2020-09-20 11:23:15  <0.9 (negative/негативний)   \n",
       "2020-09-20 11:23:15  >1.1 (positive/позитивний)   \n",
       "\n",
       "                                              IgG level  Blood group  \\\n",
       "Date time                                                              \n",
       "2020-09-20 11:23:15  0.9-1.1 (indefinable/невизначений)          2.0   \n",
       "2020-09-20 11:23:15  0.9-1.1 (indefinable/невизначений)          2.0   \n",
       "2020-09-20 11:23:15          <0.9 (negative/негативний)          2.0   \n",
       "2020-09-20 11:23:15          <0.9 (negative/негативний)          2.0   \n",
       "2020-09-20 11:23:15          <0.9 (negative/негативний)          1.0   \n",
       "\n",
       "                    Do you vaccinated influenza?  \\\n",
       "Date time                                          \n",
       "2020-09-20 11:23:15                          Yes   \n",
       "2020-09-20 11:23:15                           No   \n",
       "2020-09-20 11:23:15                           No   \n",
       "2020-09-20 11:23:15                           No   \n",
       "2020-09-20 11:23:15                           No   \n",
       "\n",
       "                    Do you vaccinated tuberculosis?  \\\n",
       "Date time                                             \n",
       "2020-09-20 11:23:15                             Yes   \n",
       "2020-09-20 11:23:15                             Yes   \n",
       "2020-09-20 11:23:15                             Yes   \n",
       "2020-09-20 11:23:15                             Yes   \n",
       "2020-09-20 11:23:15                             Yes   \n",
       "\n",
       "                    Have you had influenza this year?  \\\n",
       "Date time                                               \n",
       "2020-09-20 11:23:15                                No   \n",
       "2020-09-20 11:23:15                                No   \n",
       "2020-09-20 11:23:15                               Yes   \n",
       "2020-09-20 11:23:15                                No   \n",
       "2020-09-20 11:23:15                               Yes   \n",
       "\n",
       "                    Have you had tuberculosis this year?   \\\n",
       "Date time                                                   \n",
       "2020-09-20 11:23:15                                    No   \n",
       "2020-09-20 11:23:15                                    No   \n",
       "2020-09-20 11:23:15                                    No   \n",
       "2020-09-20 11:23:15                                    No   \n",
       "2020-09-20 11:23:15                                    No   \n",
       "\n",
       "                     Maximum body temperature  \n",
       "Date time                                      \n",
       "2020-09-20 11:23:15                      38.1  \n",
       "2020-09-20 11:23:15                      37.0  \n",
       "2020-09-20 11:23:15                      37.8  \n",
       "2020-09-20 11:23:15                       NaN  \n",
       "2020-09-20 11:23:15                      37.4  "
      ]
     },
     "execution_count": 9,
     "metadata": {},
     "output_type": "execute_result"
    }
   ],
   "source": [
    "df.head()"
   ]
  },
  {
   "cell_type": "code",
   "execution_count": 10,
   "metadata": {
    "tags": []
   },
   "outputs": [
    {
     "data": {
      "text/html": [
       "<div>\n",
       "<style scoped>\n",
       "    .dataframe tbody tr th:only-of-type {\n",
       "        vertical-align: middle;\n",
       "    }\n",
       "\n",
       "    .dataframe tbody tr th {\n",
       "        vertical-align: top;\n",
       "    }\n",
       "\n",
       "    .dataframe thead th {\n",
       "        text-align: right;\n",
       "    }\n",
       "</style>\n",
       "<table border=\"1\" class=\"dataframe\">\n",
       "  <thead>\n",
       "    <tr style=\"text-align: right;\">\n",
       "      <th></th>\n",
       "      <th>Age</th>\n",
       "      <th>Gender</th>\n",
       "      <th>Region</th>\n",
       "      <th>Do you smoke?</th>\n",
       "      <th>Have you had Covid`19 this year?</th>\n",
       "      <th>IgM level</th>\n",
       "      <th>IgG level</th>\n",
       "      <th>Blood group</th>\n",
       "      <th>Do you vaccinated influenza?</th>\n",
       "      <th>Do you vaccinated tuberculosis?</th>\n",
       "      <th>Have you had influenza this year?</th>\n",
       "      <th>Have you had tuberculosis this year?</th>\n",
       "      <th>Maximum body temperature</th>\n",
       "    </tr>\n",
       "    <tr>\n",
       "      <th>Date time</th>\n",
       "      <th></th>\n",
       "      <th></th>\n",
       "      <th></th>\n",
       "      <th></th>\n",
       "      <th></th>\n",
       "      <th></th>\n",
       "      <th></th>\n",
       "      <th></th>\n",
       "      <th></th>\n",
       "      <th></th>\n",
       "      <th></th>\n",
       "      <th></th>\n",
       "      <th></th>\n",
       "    </tr>\n",
       "  </thead>\n",
       "  <tbody>\n",
       "    <tr>\n",
       "      <th>2020-12-19 03:38:03</th>\n",
       "      <td>40-65</td>\n",
       "      <td>Female (Жінка)</td>\n",
       "      <td>Ukraine, Lviv (Львів)</td>\n",
       "      <td>No</td>\n",
       "      <td>Maybe (можливо)</td>\n",
       "      <td>&lt;0.9 (negative/негативний)</td>\n",
       "      <td>&lt;0.9 (negative/негативний)</td>\n",
       "      <td>1.0</td>\n",
       "      <td>No</td>\n",
       "      <td>Yes</td>\n",
       "      <td>Yes</td>\n",
       "      <td>No</td>\n",
       "      <td>37.0</td>\n",
       "    </tr>\n",
       "    <tr>\n",
       "      <th>2020-12-30 14:17:39</th>\n",
       "      <td>23-40</td>\n",
       "      <td>Male (Чоловік)</td>\n",
       "      <td>Ukraine, Lviv (Львів)</td>\n",
       "      <td>No</td>\n",
       "      <td>No</td>\n",
       "      <td>&lt;0.9 (negative/негативний)</td>\n",
       "      <td>&lt;0.9 (negative/негативний)</td>\n",
       "      <td>1.0</td>\n",
       "      <td>No</td>\n",
       "      <td>Maybe (можливо)</td>\n",
       "      <td>No</td>\n",
       "      <td>No</td>\n",
       "      <td>NaN</td>\n",
       "    </tr>\n",
       "    <tr>\n",
       "      <th>2020-12-19 02:39:13</th>\n",
       "      <td>23-40</td>\n",
       "      <td>Male (Чоловік)</td>\n",
       "      <td>Ukraine, Lviv (Львів)</td>\n",
       "      <td>Yes</td>\n",
       "      <td>No</td>\n",
       "      <td>&lt;0.9 (negative/негативний)</td>\n",
       "      <td>&lt;0.9 (negative/негативний)</td>\n",
       "      <td>2.0</td>\n",
       "      <td>Maybe (можливо)</td>\n",
       "      <td>Yes</td>\n",
       "      <td>Maybe (можливо)</td>\n",
       "      <td>No</td>\n",
       "      <td>NaN</td>\n",
       "    </tr>\n",
       "    <tr>\n",
       "      <th>2020-12-19 04:50:35</th>\n",
       "      <td>40-65</td>\n",
       "      <td>Female (Жінка)</td>\n",
       "      <td>Ukraine, Lviv (Львів)</td>\n",
       "      <td>No</td>\n",
       "      <td>Maybe (можливо)</td>\n",
       "      <td>&lt;0.9 (negative/негативний)</td>\n",
       "      <td>&lt;0.9 (negative/негативний)</td>\n",
       "      <td>1.0</td>\n",
       "      <td>Yes</td>\n",
       "      <td>Maybe (можливо)</td>\n",
       "      <td>No</td>\n",
       "      <td>No</td>\n",
       "      <td>37.3</td>\n",
       "    </tr>\n",
       "    <tr>\n",
       "      <th>2020-12-27 17:08:02</th>\n",
       "      <td>16-22</td>\n",
       "      <td>Male (Чоловік)</td>\n",
       "      <td>Ukraine, Lviv (Львів)</td>\n",
       "      <td>No</td>\n",
       "      <td>No</td>\n",
       "      <td>&lt;0.9 (negative/негативний)</td>\n",
       "      <td>&lt;0.9 (negative/негативний)</td>\n",
       "      <td>3.0</td>\n",
       "      <td>No</td>\n",
       "      <td>Yes</td>\n",
       "      <td>No</td>\n",
       "      <td>No</td>\n",
       "      <td>NaN</td>\n",
       "    </tr>\n",
       "    <tr>\n",
       "      <th>2020-12-30 03:01:52</th>\n",
       "      <td>23-40</td>\n",
       "      <td>Male (Чоловік)</td>\n",
       "      <td>Other (Інше)</td>\n",
       "      <td>Yes</td>\n",
       "      <td>No</td>\n",
       "      <td>&lt;0.9 (negative/негативний)</td>\n",
       "      <td>&lt;0.9 (negative/негативний)</td>\n",
       "      <td>1.0</td>\n",
       "      <td>No</td>\n",
       "      <td>No</td>\n",
       "      <td>Yes</td>\n",
       "      <td>No</td>\n",
       "      <td>NaN</td>\n",
       "    </tr>\n",
       "    <tr>\n",
       "      <th>2020-12-30 03:35:02</th>\n",
       "      <td>16-22</td>\n",
       "      <td>Female (Жінка)</td>\n",
       "      <td>Ukraine, Lviv (Львів)</td>\n",
       "      <td>No</td>\n",
       "      <td>No</td>\n",
       "      <td>&lt;0.9 (negative/негативний)</td>\n",
       "      <td>&lt;0.9 (negative/негативний)</td>\n",
       "      <td>1.0</td>\n",
       "      <td>No</td>\n",
       "      <td>Yes</td>\n",
       "      <td>Yes</td>\n",
       "      <td>No</td>\n",
       "      <td>NaN</td>\n",
       "    </tr>\n",
       "  </tbody>\n",
       "</table>\n",
       "</div>"
      ],
      "text/plain": [
       "                       Age          Gender                 Region  \\\n",
       "Date time                                                           \n",
       "2020-12-19 03:38:03  40-65  Female (Жінка)  Ukraine, Lviv (Львів)   \n",
       "2020-12-30 14:17:39  23-40  Male (Чоловік)  Ukraine, Lviv (Львів)   \n",
       "2020-12-19 02:39:13  23-40  Male (Чоловік)  Ukraine, Lviv (Львів)   \n",
       "2020-12-19 04:50:35  40-65  Female (Жінка)  Ukraine, Lviv (Львів)   \n",
       "2020-12-27 17:08:02  16-22  Male (Чоловік)  Ukraine, Lviv (Львів)   \n",
       "2020-12-30 03:01:52  23-40  Male (Чоловік)           Other (Інше)   \n",
       "2020-12-30 03:35:02  16-22  Female (Жінка)  Ukraine, Lviv (Львів)   \n",
       "\n",
       "                    Do you smoke? Have you had Covid`19 this year?  \\\n",
       "Date time                                                            \n",
       "2020-12-19 03:38:03            No                  Maybe (можливо)   \n",
       "2020-12-30 14:17:39            No                               No   \n",
       "2020-12-19 02:39:13           Yes                               No   \n",
       "2020-12-19 04:50:35            No                  Maybe (можливо)   \n",
       "2020-12-27 17:08:02            No                               No   \n",
       "2020-12-30 03:01:52           Yes                               No   \n",
       "2020-12-30 03:35:02            No                               No   \n",
       "\n",
       "                                      IgM level                   IgG level  \\\n",
       "Date time                                                                     \n",
       "2020-12-19 03:38:03  <0.9 (negative/негативний)  <0.9 (negative/негативний)   \n",
       "2020-12-30 14:17:39  <0.9 (negative/негативний)  <0.9 (negative/негативний)   \n",
       "2020-12-19 02:39:13  <0.9 (negative/негативний)  <0.9 (negative/негативний)   \n",
       "2020-12-19 04:50:35  <0.9 (negative/негативний)  <0.9 (negative/негативний)   \n",
       "2020-12-27 17:08:02  <0.9 (negative/негативний)  <0.9 (negative/негативний)   \n",
       "2020-12-30 03:01:52  <0.9 (negative/негативний)  <0.9 (negative/негативний)   \n",
       "2020-12-30 03:35:02  <0.9 (negative/негативний)  <0.9 (negative/негативний)   \n",
       "\n",
       "                     Blood group Do you vaccinated influenza?  \\\n",
       "Date time                                                       \n",
       "2020-12-19 03:38:03          1.0                           No   \n",
       "2020-12-30 14:17:39          1.0                           No   \n",
       "2020-12-19 02:39:13          2.0              Maybe (можливо)   \n",
       "2020-12-19 04:50:35          1.0                          Yes   \n",
       "2020-12-27 17:08:02          3.0                           No   \n",
       "2020-12-30 03:01:52          1.0                           No   \n",
       "2020-12-30 03:35:02          1.0                           No   \n",
       "\n",
       "                    Do you vaccinated tuberculosis?  \\\n",
       "Date time                                             \n",
       "2020-12-19 03:38:03                             Yes   \n",
       "2020-12-30 14:17:39                 Maybe (можливо)   \n",
       "2020-12-19 02:39:13                             Yes   \n",
       "2020-12-19 04:50:35                 Maybe (можливо)   \n",
       "2020-12-27 17:08:02                             Yes   \n",
       "2020-12-30 03:01:52                              No   \n",
       "2020-12-30 03:35:02                             Yes   \n",
       "\n",
       "                    Have you had influenza this year?  \\\n",
       "Date time                                               \n",
       "2020-12-19 03:38:03                               Yes   \n",
       "2020-12-30 14:17:39                                No   \n",
       "2020-12-19 02:39:13                   Maybe (можливо)   \n",
       "2020-12-19 04:50:35                                No   \n",
       "2020-12-27 17:08:02                                No   \n",
       "2020-12-30 03:01:52                               Yes   \n",
       "2020-12-30 03:35:02                               Yes   \n",
       "\n",
       "                    Have you had tuberculosis this year?   \\\n",
       "Date time                                                   \n",
       "2020-12-19 03:38:03                                    No   \n",
       "2020-12-30 14:17:39                                    No   \n",
       "2020-12-19 02:39:13                                    No   \n",
       "2020-12-19 04:50:35                                    No   \n",
       "2020-12-27 17:08:02                                    No   \n",
       "2020-12-30 03:01:52                                    No   \n",
       "2020-12-30 03:35:02                                    No   \n",
       "\n",
       "                     Maximum body temperature  \n",
       "Date time                                      \n",
       "2020-12-19 03:38:03                      37.0  \n",
       "2020-12-30 14:17:39                       NaN  \n",
       "2020-12-19 02:39:13                       NaN  \n",
       "2020-12-19 04:50:35                      37.3  \n",
       "2020-12-27 17:08:02                       NaN  \n",
       "2020-12-30 03:01:52                       NaN  \n",
       "2020-12-30 03:35:02                       NaN  "
      ]
     },
     "execution_count": 10,
     "metadata": {},
     "output_type": "execute_result"
    }
   ],
   "source": [
    "df.sample(7)"
   ]
  },
  {
   "cell_type": "code",
   "execution_count": 13,
   "metadata": {
    "tags": []
   },
   "outputs": [
    {
     "data": {
      "text/html": [
       "<div>\n",
       "<style scoped>\n",
       "    .dataframe tbody tr th:only-of-type {\n",
       "        vertical-align: middle;\n",
       "    }\n",
       "\n",
       "    .dataframe tbody tr th {\n",
       "        vertical-align: top;\n",
       "    }\n",
       "\n",
       "    .dataframe thead th {\n",
       "        text-align: right;\n",
       "    }\n",
       "</style>\n",
       "<table border=\"1\" class=\"dataframe\">\n",
       "  <thead>\n",
       "    <tr style=\"text-align: right;\">\n",
       "      <th></th>\n",
       "      <th>count</th>\n",
       "      <th>unique</th>\n",
       "      <th>top</th>\n",
       "      <th>freq</th>\n",
       "      <th>mean</th>\n",
       "      <th>std</th>\n",
       "      <th>min</th>\n",
       "      <th>25%</th>\n",
       "      <th>50%</th>\n",
       "      <th>75%</th>\n",
       "      <th>max</th>\n",
       "    </tr>\n",
       "  </thead>\n",
       "  <tbody>\n",
       "    <tr>\n",
       "      <th>Age</th>\n",
       "      <td>3303</td>\n",
       "      <td>5</td>\n",
       "      <td>23-40</td>\n",
       "      <td>1174</td>\n",
       "      <td>NaN</td>\n",
       "      <td>NaN</td>\n",
       "      <td>NaN</td>\n",
       "      <td>NaN</td>\n",
       "      <td>NaN</td>\n",
       "      <td>NaN</td>\n",
       "      <td>NaN</td>\n",
       "    </tr>\n",
       "    <tr>\n",
       "      <th>Gender</th>\n",
       "      <td>3297</td>\n",
       "      <td>2</td>\n",
       "      <td>Female (Жінка)</td>\n",
       "      <td>1818</td>\n",
       "      <td>NaN</td>\n",
       "      <td>NaN</td>\n",
       "      <td>NaN</td>\n",
       "      <td>NaN</td>\n",
       "      <td>NaN</td>\n",
       "      <td>NaN</td>\n",
       "      <td>NaN</td>\n",
       "    </tr>\n",
       "    <tr>\n",
       "      <th>Region</th>\n",
       "      <td>3286</td>\n",
       "      <td>7</td>\n",
       "      <td>Ukraine, Lviv (Львів)</td>\n",
       "      <td>3078</td>\n",
       "      <td>NaN</td>\n",
       "      <td>NaN</td>\n",
       "      <td>NaN</td>\n",
       "      <td>NaN</td>\n",
       "      <td>NaN</td>\n",
       "      <td>NaN</td>\n",
       "      <td>NaN</td>\n",
       "    </tr>\n",
       "    <tr>\n",
       "      <th>Do you smoke?</th>\n",
       "      <td>3269</td>\n",
       "      <td>2</td>\n",
       "      <td>No</td>\n",
       "      <td>2500</td>\n",
       "      <td>NaN</td>\n",
       "      <td>NaN</td>\n",
       "      <td>NaN</td>\n",
       "      <td>NaN</td>\n",
       "      <td>NaN</td>\n",
       "      <td>NaN</td>\n",
       "      <td>NaN</td>\n",
       "    </tr>\n",
       "    <tr>\n",
       "      <th>Have you had Covid`19 this year?</th>\n",
       "      <td>3305</td>\n",
       "      <td>4</td>\n",
       "      <td>No</td>\n",
       "      <td>1775</td>\n",
       "      <td>NaN</td>\n",
       "      <td>NaN</td>\n",
       "      <td>NaN</td>\n",
       "      <td>NaN</td>\n",
       "      <td>NaN</td>\n",
       "      <td>NaN</td>\n",
       "      <td>NaN</td>\n",
       "    </tr>\n",
       "    <tr>\n",
       "      <th>IgM level</th>\n",
       "      <td>3232</td>\n",
       "      <td>3</td>\n",
       "      <td>&lt;0.9 (negative/негативний)</td>\n",
       "      <td>2662</td>\n",
       "      <td>NaN</td>\n",
       "      <td>NaN</td>\n",
       "      <td>NaN</td>\n",
       "      <td>NaN</td>\n",
       "      <td>NaN</td>\n",
       "      <td>NaN</td>\n",
       "      <td>NaN</td>\n",
       "    </tr>\n",
       "    <tr>\n",
       "      <th>IgG level</th>\n",
       "      <td>3248</td>\n",
       "      <td>4</td>\n",
       "      <td>&lt;0.9 (negative/негативний)</td>\n",
       "      <td>2598</td>\n",
       "      <td>NaN</td>\n",
       "      <td>NaN</td>\n",
       "      <td>NaN</td>\n",
       "      <td>NaN</td>\n",
       "      <td>NaN</td>\n",
       "      <td>NaN</td>\n",
       "      <td>NaN</td>\n",
       "    </tr>\n",
       "    <tr>\n",
       "      <th>Blood group</th>\n",
       "      <td>3252.0</td>\n",
       "      <td>NaN</td>\n",
       "      <td>NaN</td>\n",
       "      <td>NaN</td>\n",
       "      <td>1.958487</td>\n",
       "      <td>0.893842</td>\n",
       "      <td>1.0</td>\n",
       "      <td>1.0</td>\n",
       "      <td>2.0</td>\n",
       "      <td>2.0</td>\n",
       "      <td>4.0</td>\n",
       "    </tr>\n",
       "    <tr>\n",
       "      <th>Do you vaccinated influenza?</th>\n",
       "      <td>3294</td>\n",
       "      <td>5</td>\n",
       "      <td>No</td>\n",
       "      <td>2658</td>\n",
       "      <td>NaN</td>\n",
       "      <td>NaN</td>\n",
       "      <td>NaN</td>\n",
       "      <td>NaN</td>\n",
       "      <td>NaN</td>\n",
       "      <td>NaN</td>\n",
       "      <td>NaN</td>\n",
       "    </tr>\n",
       "    <tr>\n",
       "      <th>Do you vaccinated tuberculosis?</th>\n",
       "      <td>3303</td>\n",
       "      <td>6</td>\n",
       "      <td>Yes</td>\n",
       "      <td>2588</td>\n",
       "      <td>NaN</td>\n",
       "      <td>NaN</td>\n",
       "      <td>NaN</td>\n",
       "      <td>NaN</td>\n",
       "      <td>NaN</td>\n",
       "      <td>NaN</td>\n",
       "      <td>NaN</td>\n",
       "    </tr>\n",
       "    <tr>\n",
       "      <th>Have you had influenza this year?</th>\n",
       "      <td>3299</td>\n",
       "      <td>5</td>\n",
       "      <td>No</td>\n",
       "      <td>2356</td>\n",
       "      <td>NaN</td>\n",
       "      <td>NaN</td>\n",
       "      <td>NaN</td>\n",
       "      <td>NaN</td>\n",
       "      <td>NaN</td>\n",
       "      <td>NaN</td>\n",
       "      <td>NaN</td>\n",
       "    </tr>\n",
       "    <tr>\n",
       "      <th>Have you had tuberculosis this year?</th>\n",
       "      <td>3299</td>\n",
       "      <td>3</td>\n",
       "      <td>No</td>\n",
       "      <td>3291</td>\n",
       "      <td>NaN</td>\n",
       "      <td>NaN</td>\n",
       "      <td>NaN</td>\n",
       "      <td>NaN</td>\n",
       "      <td>NaN</td>\n",
       "      <td>NaN</td>\n",
       "      <td>NaN</td>\n",
       "    </tr>\n",
       "    <tr>\n",
       "      <th>Maximum body temperature</th>\n",
       "      <td>1533.0</td>\n",
       "      <td>NaN</td>\n",
       "      <td>NaN</td>\n",
       "      <td>NaN</td>\n",
       "      <td>37.711611</td>\n",
       "      <td>0.634225</td>\n",
       "      <td>36.6</td>\n",
       "      <td>37.2</td>\n",
       "      <td>37.7</td>\n",
       "      <td>38.3</td>\n",
       "      <td>38.8</td>\n",
       "    </tr>\n",
       "  </tbody>\n",
       "</table>\n",
       "</div>"
      ],
      "text/plain": [
       "                                        count unique  \\\n",
       "Age                                      3303      5   \n",
       "Gender                                   3297      2   \n",
       "Region                                   3286      7   \n",
       "Do you smoke?                            3269      2   \n",
       "Have you had Covid`19 this year?         3305      4   \n",
       "IgM level                                3232      3   \n",
       "IgG level                                3248      4   \n",
       "Blood group                            3252.0    NaN   \n",
       "Do you vaccinated influenza?             3294      5   \n",
       "Do you vaccinated tuberculosis?          3303      6   \n",
       "Have you had influenza this year?        3299      5   \n",
       "Have you had tuberculosis this year?     3299      3   \n",
       "Maximum body temperature               1533.0    NaN   \n",
       "\n",
       "                                                              top  freq  \\\n",
       "Age                                                         23-40  1174   \n",
       "Gender                                             Female (Жінка)  1818   \n",
       "Region                                      Ukraine, Lviv (Львів)  3078   \n",
       "Do you smoke?                                                  No  2500   \n",
       "Have you had Covid`19 this year?                               No  1775   \n",
       "IgM level                              <0.9 (negative/негативний)  2662   \n",
       "IgG level                              <0.9 (negative/негативний)  2598   \n",
       "Blood group                                                   NaN   NaN   \n",
       "Do you vaccinated influenza?                                   No  2658   \n",
       "Do you vaccinated tuberculosis?                               Yes  2588   \n",
       "Have you had influenza this year?                              No  2356   \n",
       "Have you had tuberculosis this year?                           No  3291   \n",
       "Maximum body temperature                                      NaN   NaN   \n",
       "\n",
       "                                            mean       std   min   25%   50%  \\\n",
       "Age                                          NaN       NaN   NaN   NaN   NaN   \n",
       "Gender                                       NaN       NaN   NaN   NaN   NaN   \n",
       "Region                                       NaN       NaN   NaN   NaN   NaN   \n",
       "Do you smoke?                                NaN       NaN   NaN   NaN   NaN   \n",
       "Have you had Covid`19 this year?             NaN       NaN   NaN   NaN   NaN   \n",
       "IgM level                                    NaN       NaN   NaN   NaN   NaN   \n",
       "IgG level                                    NaN       NaN   NaN   NaN   NaN   \n",
       "Blood group                             1.958487  0.893842   1.0   1.0   2.0   \n",
       "Do you vaccinated influenza?                 NaN       NaN   NaN   NaN   NaN   \n",
       "Do you vaccinated tuberculosis?              NaN       NaN   NaN   NaN   NaN   \n",
       "Have you had influenza this year?            NaN       NaN   NaN   NaN   NaN   \n",
       "Have you had tuberculosis this year?         NaN       NaN   NaN   NaN   NaN   \n",
       "Maximum body temperature               37.711611  0.634225  36.6  37.2  37.7   \n",
       "\n",
       "                                        75%   max  \n",
       "Age                                     NaN   NaN  \n",
       "Gender                                  NaN   NaN  \n",
       "Region                                  NaN   NaN  \n",
       "Do you smoke?                           NaN   NaN  \n",
       "Have you had Covid`19 this year?        NaN   NaN  \n",
       "IgM level                               NaN   NaN  \n",
       "IgG level                               NaN   NaN  \n",
       "Blood group                             2.0   4.0  \n",
       "Do you vaccinated influenza?            NaN   NaN  \n",
       "Do you vaccinated tuberculosis?         NaN   NaN  \n",
       "Have you had influenza this year?       NaN   NaN  \n",
       "Have you had tuberculosis this year?    NaN   NaN  \n",
       "Maximum body temperature               38.3  38.8  "
      ]
     },
     "execution_count": 13,
     "metadata": {},
     "output_type": "execute_result"
    }
   ],
   "source": [
    "df.describe(include = 'all').T"
   ]
  },
  {
   "cell_type": "markdown",
   "metadata": {},
   "source": [
    "## Data preparation\n"
   ]
  },
  {
   "cell_type": "markdown",
   "metadata": {},
   "source": [
    "Some respondents did not indicate their gender. This will make further analysis of such data impossible.\n",
    "Remove rows that do not specify gender using **[dropna()](https://pandas.pydata.org/docs/reference/api/pandas.DataFrame.dropna.html?utm_medium=Exinfluencer&utm_source=Exinfluencer&utm_content=000026UJ&utm_term=10006555&utm_id=NA-SkillsNetwork-Channel-SkillsNetworkGuidedProjectsdatascienceinhealthcarebasicstatisticalanalysis507-2022-01-01)**:\n"
   ]
  },
  {
   "cell_type": "code",
   "execution_count": 15,
   "metadata": {
    "tags": []
   },
   "outputs": [],
   "source": [
    "df = df.dropna(subset=['Gender'])"
   ]
  },
  {
   "cell_type": "markdown",
   "metadata": {},
   "source": [
    "Some data might be stored in formats that Python misinterprets. Therefore, you can use the **[map()](https://pandas.pydata.org/docs/reference/api/pandas.Series.map.html?utm_medium=Exinfluencer&utm_source=Exinfluencer&utm_content=000026UJ&utm_term=10006555&utm_id=NA-SkillsNetwork-Channel-SkillsNetworkGuidedProjectsdatascienceinhealthcarebasicstatisticalanalysis507-2022-01-01&highlight=map#pandas.Series.map)** method to replace cell values. For example, you can change the Yes / No value to True / False as follows:\n"
   ]
  },
  {
   "cell_type": "code",
   "execution_count": 16,
   "metadata": {
    "tags": []
   },
   "outputs": [
    {
     "name": "stderr",
     "output_type": "stream",
     "text": [
      "/home/jupyterlab/conda/envs/python/lib/python3.7/site-packages/pandas/core/indexing.py:1773: SettingWithCopyWarning: \n",
      "A value is trying to be set on a copy of a slice from a DataFrame.\n",
      "Try using .loc[row_indexer,col_indexer] = value instead\n",
      "\n",
      "See the caveats in the documentation: https://pandas.pydata.org/pandas-docs/stable/user_guide/indexing.html#returning-a-view-versus-a-copy\n",
      "  self._setitem_single_column(ilocs[0], value, pi)\n"
     ]
    }
   ],
   "source": [
    "d = {'No' : False, 'Yes' : True}\n",
    "c = 'Do you vaccinated influenza?'\n",
    "df.loc[:, c] = df[c].map(d)"
   ]
  },
  {
   "cell_type": "code",
   "execution_count": 17,
   "metadata": {
    "tags": []
   },
   "outputs": [
    {
     "data": {
      "text/html": [
       "<div>\n",
       "<style scoped>\n",
       "    .dataframe tbody tr th:only-of-type {\n",
       "        vertical-align: middle;\n",
       "    }\n",
       "\n",
       "    .dataframe tbody tr th {\n",
       "        vertical-align: top;\n",
       "    }\n",
       "\n",
       "    .dataframe thead th {\n",
       "        text-align: right;\n",
       "    }\n",
       "</style>\n",
       "<table border=\"1\" class=\"dataframe\">\n",
       "  <thead>\n",
       "    <tr style=\"text-align: right;\">\n",
       "      <th></th>\n",
       "      <th>Age</th>\n",
       "      <th>Gender</th>\n",
       "      <th>Region</th>\n",
       "      <th>Do you smoke?</th>\n",
       "      <th>Have you had Covid`19 this year?</th>\n",
       "      <th>IgM level</th>\n",
       "      <th>IgG level</th>\n",
       "      <th>Blood group</th>\n",
       "      <th>Do you vaccinated influenza?</th>\n",
       "      <th>Do you vaccinated tuberculosis?</th>\n",
       "      <th>Have you had influenza this year?</th>\n",
       "      <th>Have you had tuberculosis this year?</th>\n",
       "      <th>Maximum body temperature</th>\n",
       "    </tr>\n",
       "    <tr>\n",
       "      <th>Date time</th>\n",
       "      <th></th>\n",
       "      <th></th>\n",
       "      <th></th>\n",
       "      <th></th>\n",
       "      <th></th>\n",
       "      <th></th>\n",
       "      <th></th>\n",
       "      <th></th>\n",
       "      <th></th>\n",
       "      <th></th>\n",
       "      <th></th>\n",
       "      <th></th>\n",
       "      <th></th>\n",
       "    </tr>\n",
       "  </thead>\n",
       "  <tbody>\n",
       "    <tr>\n",
       "      <th>2020-12-24 16:29:10</th>\n",
       "      <td>40-65</td>\n",
       "      <td>Female (Жінка)</td>\n",
       "      <td>Ukraine, Lviv (Львів)</td>\n",
       "      <td>No</td>\n",
       "      <td>Maybe (можливо)</td>\n",
       "      <td>&lt;0.9 (negative/негативний)</td>\n",
       "      <td>&lt;0.9 (negative/негативний)</td>\n",
       "      <td>2.0</td>\n",
       "      <td>True</td>\n",
       "      <td>Yes</td>\n",
       "      <td>No</td>\n",
       "      <td>No</td>\n",
       "      <td>38.3</td>\n",
       "    </tr>\n",
       "  </tbody>\n",
       "</table>\n",
       "</div>"
      ],
      "text/plain": [
       "                       Age          Gender                 Region  \\\n",
       "Date time                                                           \n",
       "2020-12-24 16:29:10  40-65  Female (Жінка)  Ukraine, Lviv (Львів)   \n",
       "\n",
       "                    Do you smoke? Have you had Covid`19 this year?  \\\n",
       "Date time                                                            \n",
       "2020-12-24 16:29:10            No                  Maybe (можливо)   \n",
       "\n",
       "                                      IgM level                   IgG level  \\\n",
       "Date time                                                                     \n",
       "2020-12-24 16:29:10  <0.9 (negative/негативний)  <0.9 (negative/негативний)   \n",
       "\n",
       "                     Blood group Do you vaccinated influenza?  \\\n",
       "Date time                                                       \n",
       "2020-12-24 16:29:10          2.0                         True   \n",
       "\n",
       "                    Do you vaccinated tuberculosis?  \\\n",
       "Date time                                             \n",
       "2020-12-24 16:29:10                             Yes   \n",
       "\n",
       "                    Have you had influenza this year?  \\\n",
       "Date time                                               \n",
       "2020-12-24 16:29:10                                No   \n",
       "\n",
       "                    Have you had tuberculosis this year?   \\\n",
       "Date time                                                   \n",
       "2020-12-24 16:29:10                                    No   \n",
       "\n",
       "                     Maximum body temperature  \n",
       "Date time                                      \n",
       "2020-12-24 16:29:10                      38.3  "
      ]
     },
     "execution_count": 17,
     "metadata": {},
     "output_type": "execute_result"
    }
   ],
   "source": [
    "df.sample()"
   ]
  },
  {
   "cell_type": "markdown",
   "metadata": {},
   "source": [
    "For further analysis it is necessary to study the general characteristics of the fields using **[info()](https://pandas.pydata.org/docs/reference/api/pandas.DataFrame.info.html?utm_medium=Exinfluencer&utm_source=Exinfluencer&utm_content=000026UJ&utm_term=10006555&utm_id=NA-SkillsNetwork-Channel-SkillsNetworkGuidedProjectsdatascienceinhealthcarebasicstatisticalanalysis507-2022-01-01&highlight=info#pandas.DataFrame.info)**.\n"
   ]
  },
  {
   "cell_type": "code",
   "execution_count": 18,
   "metadata": {
    "tags": []
   },
   "outputs": [
    {
     "name": "stdout",
     "output_type": "stream",
     "text": [
      "<class 'pandas.core.frame.DataFrame'>\n",
      "DatetimeIndex: 3297 entries, 2020-09-20 11:23:15 to 2021-04-05 03:18:16\n",
      "Data columns (total 13 columns):\n",
      " #   Column                                 Non-Null Count  Dtype  \n",
      "---  ------                                 --------------  -----  \n",
      " 0   Age                                    3296 non-null   object \n",
      " 1   Gender                                 3297 non-null   object \n",
      " 2   Region                                 3279 non-null   object \n",
      " 3   Do you smoke?                          3267 non-null   object \n",
      " 4   Have you had Covid`19 this year?       3296 non-null   object \n",
      " 5   IgM level                              3221 non-null   object \n",
      " 6   IgG level                              3237 non-null   object \n",
      " 7   Blood group                            3243 non-null   float64\n",
      " 8   Do you vaccinated influenza?           3190 non-null   object \n",
      " 9   Do you vaccinated tuberculosis?        3294 non-null   object \n",
      " 10  Have you had influenza this year?      3290 non-null   object \n",
      " 11  Have you had tuberculosis this year?   3290 non-null   object \n",
      " 12  Maximum body temperature               1529 non-null   float64\n",
      "dtypes: float64(2), object(11)\n",
      "memory usage: 360.6+ KB\n"
     ]
    }
   ],
   "source": [
    "df.info()"
   ]
  },
  {
   "cell_type": "markdown",
   "metadata": {},
   "source": [
    "We can see that all the data of all columns has non-null object type (except two).\n",
    "Therefore, it is necessary to transform the data and change the type."
   ]
  },
  {
   "cell_type": "markdown",
   "metadata": {},
   "source": [
    "As it can be seen from the table, the Age field should be categorized. For this we can use **[astype()](https://pandas.pydata.org/docs/reference/api/pandas.DataFrame.astype.html?utm_medium=Exinfluencer&utm_source=Exinfluencer&utm_content=000026UJ&utm_term=10006555&utm_id=NA-SkillsNetwork-Channel-SkillsNetworkGuidedProjectsdatascienceinhealthcarebasicstatisticalanalysis507-2022-01-01&highlight=astype#pandas.DataFrame.astype)**:\n"
   ]
  },
  {
   "cell_type": "code",
   "execution_count": 19,
   "metadata": {
    "tags": []
   },
   "outputs": [
    {
     "name": "stderr",
     "output_type": "stream",
     "text": [
      "/home/jupyterlab/conda/envs/python/lib/python3.7/site-packages/pandas/core/indexing.py:1773: SettingWithCopyWarning: \n",
      "A value is trying to be set on a copy of a slice from a DataFrame.\n",
      "Try using .loc[row_indexer,col_indexer] = value instead\n",
      "\n",
      "See the caveats in the documentation: https://pandas.pydata.org/pandas-docs/stable/user_guide/indexing.html#returning-a-view-versus-a-copy\n",
      "  self._setitem_single_column(ilocs[0], value, pi)\n"
     ]
    }
   ],
   "source": [
    "c = 'Age'\n",
    "df.loc[:, c] = df[c].astype('category')"
   ]
  },
  {
   "cell_type": "code",
   "execution_count": 20,
   "metadata": {
    "tags": []
   },
   "outputs": [
    {
     "data": {
      "text/plain": [
       "Date time\n",
       "2020-09-20 11:23:15    40-65\n",
       "2020-09-20 11:23:15    23-40\n",
       "2020-09-20 11:23:15    23-40\n",
       "2020-09-20 11:23:15    40-65\n",
       "2020-09-20 11:23:15    16-22\n",
       "Name: Age, dtype: category\n",
       "Categories (5, object): ['0-15', '16-22', '23-40', '40-65', '>65']"
      ]
     },
     "execution_count": 20,
     "metadata": {},
     "output_type": "execute_result"
    }
   ],
   "source": [
    "df['Age'].head()"
   ]
  },
  {
   "cell_type": "markdown",
   "metadata": {},
   "source": [
    "We can see that this column has now become categorical and has 5 different categories.\n"
   ]
  },
  {
   "cell_type": "markdown",
   "metadata": {},
   "source": [
    "All other fields except the last one contain Cyrillic values, so they need to be replaced and also be made categorical. To do this, use the **[lambda](https://pandas.pydata.org/docs/reference/api/pandas.Series.apply.html?utm_medium=Exinfluencer&utm_source=Exinfluencer&utm_content=000026UJ&utm_term=10006555&utm_id=NA-SkillsNetwork-Channel-SkillsNetworkGuidedProjectsdatascienceinhealthcarebasicstatisticalanalysis507-2022-01-01&highlight=apply#pandas.Series.apply)** function for each cell value in the corresponding columns. The main idea in this case is to find the position of the open parenthesis '( ' in the sentence and return the slice of text before it. If there are no parenthesis in the text, leave the text unchanged.\n"
   ]
  },
  {
   "cell_type": "code",
   "execution_count": 21,
   "metadata": {
    "tags": []
   },
   "outputs": [],
   "source": [
    "for c in df.columns[1:-1]:\n",
    "    df.loc[:, c] = df[c].apply(lambda x : str(x) if str(x).find('(') == -1 else str(x)[:str(x).find('(')] ).astype('category')"
   ]
  },
  {
   "cell_type": "code",
   "execution_count": 22,
   "metadata": {
    "tags": []
   },
   "outputs": [
    {
     "name": "stdout",
     "output_type": "stream",
     "text": [
      "<class 'pandas.core.frame.DataFrame'>\n",
      "DatetimeIndex: 3297 entries, 2020-09-20 11:23:15 to 2021-04-05 03:18:16\n",
      "Data columns (total 13 columns):\n",
      " #   Column                                 Non-Null Count  Dtype   \n",
      "---  ------                                 --------------  -----   \n",
      " 0   Age                                    3296 non-null   category\n",
      " 1   Gender                                 3297 non-null   category\n",
      " 2   Region                                 3297 non-null   category\n",
      " 3   Do you smoke?                          3297 non-null   category\n",
      " 4   Have you had Covid`19 this year?       3297 non-null   category\n",
      " 5   IgM level                              3297 non-null   category\n",
      " 6   IgG level                              3297 non-null   category\n",
      " 7   Blood group                            3297 non-null   category\n",
      " 8   Do you vaccinated influenza?           3297 non-null   category\n",
      " 9   Do you vaccinated tuberculosis?        3297 non-null   category\n",
      " 10  Have you had influenza this year?      3297 non-null   category\n",
      " 11  Have you had tuberculosis this year?   3297 non-null   category\n",
      " 12  Maximum body temperature               1529 non-null   float64 \n",
      "dtypes: category(12), float64(1)\n",
      "memory usage: 92.5 KB\n"
     ]
    }
   ],
   "source": [
    "df.info()"
   ]
  },
  {
   "cell_type": "code",
   "execution_count": 23,
   "metadata": {
    "tags": []
   },
   "outputs": [
    {
     "data": {
      "text/html": [
       "<div>\n",
       "<style scoped>\n",
       "    .dataframe tbody tr th:only-of-type {\n",
       "        vertical-align: middle;\n",
       "    }\n",
       "\n",
       "    .dataframe tbody tr th {\n",
       "        vertical-align: top;\n",
       "    }\n",
       "\n",
       "    .dataframe thead th {\n",
       "        text-align: right;\n",
       "    }\n",
       "</style>\n",
       "<table border=\"1\" class=\"dataframe\">\n",
       "  <thead>\n",
       "    <tr style=\"text-align: right;\">\n",
       "      <th></th>\n",
       "      <th>Maximum body temperature</th>\n",
       "    </tr>\n",
       "  </thead>\n",
       "  <tbody>\n",
       "    <tr>\n",
       "      <th>count</th>\n",
       "      <td>1529.000000</td>\n",
       "    </tr>\n",
       "    <tr>\n",
       "      <th>mean</th>\n",
       "      <td>37.710203</td>\n",
       "    </tr>\n",
       "    <tr>\n",
       "      <th>std</th>\n",
       "      <td>0.634367</td>\n",
       "    </tr>\n",
       "    <tr>\n",
       "      <th>min</th>\n",
       "      <td>36.600000</td>\n",
       "    </tr>\n",
       "    <tr>\n",
       "      <th>25%</th>\n",
       "      <td>37.200000</td>\n",
       "    </tr>\n",
       "    <tr>\n",
       "      <th>50%</th>\n",
       "      <td>37.700000</td>\n",
       "    </tr>\n",
       "    <tr>\n",
       "      <th>75%</th>\n",
       "      <td>38.300000</td>\n",
       "    </tr>\n",
       "    <tr>\n",
       "      <th>max</th>\n",
       "      <td>38.800000</td>\n",
       "    </tr>\n",
       "  </tbody>\n",
       "</table>\n",
       "</div>"
      ],
      "text/plain": [
       "       Maximum body temperature\n",
       "count               1529.000000\n",
       "mean                  37.710203\n",
       "std                    0.634367\n",
       "min                   36.600000\n",
       "25%                   37.200000\n",
       "50%                   37.700000\n",
       "75%                   38.300000\n",
       "max                   38.800000"
      ]
     },
     "execution_count": 23,
     "metadata": {},
     "output_type": "execute_result"
    }
   ],
   "source": [
    "df.describe()"
   ]
  },
  {
   "cell_type": "markdown",
   "metadata": {},
   "source": [
    "As you can see, the result highlights basic statistical information for all the columns except the categorical ones.\n",
    "The information includes total, average, standard deviation, minimum, maximum and the values of the main quarters.\n",
    "In order to display the summary information of category fields, we have to specify the data types we want to display the statistics for:\n"
   ]
  },
  {
   "cell_type": "code",
   "execution_count": 24,
   "metadata": {
    "tags": []
   },
   "outputs": [
    {
     "data": {
      "text/html": [
       "<div>\n",
       "<style scoped>\n",
       "    .dataframe tbody tr th:only-of-type {\n",
       "        vertical-align: middle;\n",
       "    }\n",
       "\n",
       "    .dataframe tbody tr th {\n",
       "        vertical-align: top;\n",
       "    }\n",
       "\n",
       "    .dataframe thead th {\n",
       "        text-align: right;\n",
       "    }\n",
       "</style>\n",
       "<table border=\"1\" class=\"dataframe\">\n",
       "  <thead>\n",
       "    <tr style=\"text-align: right;\">\n",
       "      <th></th>\n",
       "      <th>Age</th>\n",
       "      <th>Gender</th>\n",
       "      <th>Region</th>\n",
       "      <th>Do you smoke?</th>\n",
       "      <th>Have you had Covid`19 this year?</th>\n",
       "      <th>IgM level</th>\n",
       "      <th>IgG level</th>\n",
       "      <th>Blood group</th>\n",
       "      <th>Do you vaccinated influenza?</th>\n",
       "      <th>Do you vaccinated tuberculosis?</th>\n",
       "      <th>Have you had influenza this year?</th>\n",
       "      <th>Have you had tuberculosis this year?</th>\n",
       "    </tr>\n",
       "  </thead>\n",
       "  <tbody>\n",
       "    <tr>\n",
       "      <th>count</th>\n",
       "      <td>3296</td>\n",
       "      <td>3297</td>\n",
       "      <td>3297</td>\n",
       "      <td>3297</td>\n",
       "      <td>3297</td>\n",
       "      <td>3297</td>\n",
       "      <td>3297</td>\n",
       "      <td>3297</td>\n",
       "      <td>3297</td>\n",
       "      <td>3297</td>\n",
       "      <td>3297</td>\n",
       "      <td>3297</td>\n",
       "    </tr>\n",
       "    <tr>\n",
       "      <th>unique</th>\n",
       "      <td>5</td>\n",
       "      <td>2</td>\n",
       "      <td>8</td>\n",
       "      <td>3</td>\n",
       "      <td>5</td>\n",
       "      <td>4</td>\n",
       "      <td>5</td>\n",
       "      <td>5</td>\n",
       "      <td>3</td>\n",
       "      <td>5</td>\n",
       "      <td>5</td>\n",
       "      <td>4</td>\n",
       "    </tr>\n",
       "    <tr>\n",
       "      <th>top</th>\n",
       "      <td>23-40</td>\n",
       "      <td>Female</td>\n",
       "      <td>Ukraine, Lviv</td>\n",
       "      <td>No</td>\n",
       "      <td>No</td>\n",
       "      <td>&lt;0.9</td>\n",
       "      <td>&lt;0.9</td>\n",
       "      <td>2.0</td>\n",
       "      <td>False</td>\n",
       "      <td>Yes</td>\n",
       "      <td>No</td>\n",
       "      <td>No</td>\n",
       "    </tr>\n",
       "    <tr>\n",
       "      <th>freq</th>\n",
       "      <td>1174</td>\n",
       "      <td>1818</td>\n",
       "      <td>3071</td>\n",
       "      <td>2498</td>\n",
       "      <td>1768</td>\n",
       "      <td>2651</td>\n",
       "      <td>2587</td>\n",
       "      <td>1381</td>\n",
       "      <td>2651</td>\n",
       "      <td>2579</td>\n",
       "      <td>2347</td>\n",
       "      <td>3282</td>\n",
       "    </tr>\n",
       "  </tbody>\n",
       "</table>\n",
       "</div>"
      ],
      "text/plain": [
       "          Age   Gender          Region Do you smoke?  \\\n",
       "count    3296     3297            3297          3297   \n",
       "unique      5        2               8             3   \n",
       "top     23-40  Female   Ukraine, Lviv             No   \n",
       "freq     1174     1818            3071          2498   \n",
       "\n",
       "       Have you had Covid`19 this year? IgM level IgG level Blood group  \\\n",
       "count                              3297      3297      3297        3297   \n",
       "unique                                5         4         5           5   \n",
       "top                                  No     <0.9      <0.9          2.0   \n",
       "freq                               1768      2651      2587        1381   \n",
       "\n",
       "       Do you vaccinated influenza? Do you vaccinated tuberculosis?  \\\n",
       "count                          3297                            3297   \n",
       "unique                            3                               5   \n",
       "top                           False                             Yes   \n",
       "freq                           2651                            2579   \n",
       "\n",
       "       Have you had influenza this year? Have you had tuberculosis this year?   \n",
       "count                               3297                                  3297  \n",
       "unique                                 5                                     4  \n",
       "top                                   No                                    No  \n",
       "freq                                2347                                  3282  "
      ]
     },
     "execution_count": 24,
     "metadata": {},
     "output_type": "execute_result"
    }
   ],
   "source": [
    "df.describe(include=['category'])"
   ]
  },
  {
   "cell_type": "markdown",
   "metadata": {},
   "source": [
    "## Statistical analysis\n"
   ]
  },
  {
   "cell_type": "markdown",
   "metadata": {},
   "source": [
    "As you can see, statistical information consists of the number of unique values, the value of the most popular category and the number of its values.\n",
    "The detailed information for a specific column can be obtained as follows (**[value_counts()](https://pandas.pydata.org/docs/reference/api/pandas.Series.value_counts.html?utm_medium=Exinfluencer&utm_source=Exinfluencer&utm_content=000026UJ&utm_term=10006555&utm_id=NA-SkillsNetwork-Channel-SkillsNetworkGuidedProjectsdatascienceinhealthcarebasicstatisticalanalysis507-2022-01-01&highlight=value_counts#pandas.Series.value_counts)**):\n"
   ]
  },
  {
   "cell_type": "code",
   "execution_count": 25,
   "metadata": {
    "tags": []
   },
   "outputs": [
    {
     "data": {
      "text/plain": [
       "23-40    1174\n",
       "40-65    1063\n",
       "16-22     823\n",
       ">65       193\n",
       "0-15       43\n",
       "Name: Age, dtype: int64"
      ]
     },
     "execution_count": 25,
     "metadata": {},
     "output_type": "execute_result"
    }
   ],
   "source": [
    "df['Age'].value_counts()"
   ]
  },
  {
   "cell_type": "markdown",
   "metadata": {},
   "source": [
    "You can also get information in a normalized form.\n"
   ]
  },
  {
   "cell_type": "code",
   "execution_count": 26,
   "metadata": {
    "tags": []
   },
   "outputs": [
    {
     "data": {
      "text/plain": [
       "23-40    0.356189\n",
       "40-65    0.322512\n",
       "16-22    0.249697\n",
       ">65      0.058556\n",
       "0-15     0.013046\n",
       "Name: Age, dtype: float64"
      ]
     },
     "execution_count": 26,
     "metadata": {},
     "output_type": "execute_result"
    }
   ],
   "source": [
    "df['Age'].value_counts(normalize=True)"
   ]
  },
  {
   "cell_type": "markdown",
   "metadata": {},
   "source": [
    "### Sorting\n"
   ]
  },
  {
   "cell_type": "markdown",
   "metadata": {},
   "source": [
    "You can sort the data by one or a group of columns, you can specify the sort direction or create your own sort rules (for example, for category fields) using **[sort_values()](https://pandas.pydata.org/docs/reference/api/pandas.DataFrame.sort_values.html?utm_medium=Exinfluencer&utm_source=Exinfluencer&utm_content=000026UJ&utm_term=10006555&utm_id=NA-SkillsNetwork-Channel-SkillsNetworkGuidedProjectsdatascienceinhealthcarebasicstatisticalanalysis507-2022-01-01&highlight=sort_values#pandas.DataFrame.sort_values)**\n"
   ]
  },
  {
   "cell_type": "code",
   "execution_count": 27,
   "metadata": {
    "tags": []
   },
   "outputs": [
    {
     "data": {
      "text/html": [
       "<div>\n",
       "<style scoped>\n",
       "    .dataframe tbody tr th:only-of-type {\n",
       "        vertical-align: middle;\n",
       "    }\n",
       "\n",
       "    .dataframe tbody tr th {\n",
       "        vertical-align: top;\n",
       "    }\n",
       "\n",
       "    .dataframe thead th {\n",
       "        text-align: right;\n",
       "    }\n",
       "</style>\n",
       "<table border=\"1\" class=\"dataframe\">\n",
       "  <thead>\n",
       "    <tr style=\"text-align: right;\">\n",
       "      <th></th>\n",
       "      <th>Age</th>\n",
       "      <th>Gender</th>\n",
       "      <th>Region</th>\n",
       "      <th>Do you smoke?</th>\n",
       "      <th>Have you had Covid`19 this year?</th>\n",
       "      <th>IgM level</th>\n",
       "      <th>IgG level</th>\n",
       "      <th>Blood group</th>\n",
       "      <th>Do you vaccinated influenza?</th>\n",
       "      <th>Do you vaccinated tuberculosis?</th>\n",
       "      <th>Have you had influenza this year?</th>\n",
       "      <th>Have you had tuberculosis this year?</th>\n",
       "      <th>Maximum body temperature</th>\n",
       "    </tr>\n",
       "    <tr>\n",
       "      <th>Date time</th>\n",
       "      <th></th>\n",
       "      <th></th>\n",
       "      <th></th>\n",
       "      <th></th>\n",
       "      <th></th>\n",
       "      <th></th>\n",
       "      <th></th>\n",
       "      <th></th>\n",
       "      <th></th>\n",
       "      <th></th>\n",
       "      <th></th>\n",
       "      <th></th>\n",
       "      <th></th>\n",
       "    </tr>\n",
       "  </thead>\n",
       "  <tbody>\n",
       "    <tr>\n",
       "      <th>2020-12-30 02:10:07</th>\n",
       "      <td>0-15</td>\n",
       "      <td>Male</td>\n",
       "      <td>Ukraine, Lviv</td>\n",
       "      <td>No</td>\n",
       "      <td>No</td>\n",
       "      <td>&lt;0.9</td>\n",
       "      <td>&lt;0.9</td>\n",
       "      <td>3.0</td>\n",
       "      <td>False</td>\n",
       "      <td>No</td>\n",
       "      <td>Yes</td>\n",
       "      <td>No</td>\n",
       "      <td>NaN</td>\n",
       "    </tr>\n",
       "    <tr>\n",
       "      <th>2020-12-17 19:19:43</th>\n",
       "      <td>0-15</td>\n",
       "      <td>Female</td>\n",
       "      <td>Ukraine, Lviv</td>\n",
       "      <td>No</td>\n",
       "      <td>No</td>\n",
       "      <td>&lt;0.9</td>\n",
       "      <td>&lt;0.9</td>\n",
       "      <td>2.0</td>\n",
       "      <td>False</td>\n",
       "      <td>Maybe</td>\n",
       "      <td>Maybe</td>\n",
       "      <td>No</td>\n",
       "      <td>NaN</td>\n",
       "    </tr>\n",
       "    <tr>\n",
       "      <th>2020-12-17 22:59:41</th>\n",
       "      <td>0-15</td>\n",
       "      <td>Male</td>\n",
       "      <td>Ukraine, Lviv</td>\n",
       "      <td>No</td>\n",
       "      <td>No</td>\n",
       "      <td>&lt;0.9</td>\n",
       "      <td>&lt;0.9</td>\n",
       "      <td>2.0</td>\n",
       "      <td>False</td>\n",
       "      <td>Yes</td>\n",
       "      <td>Yes</td>\n",
       "      <td>No</td>\n",
       "      <td>NaN</td>\n",
       "    </tr>\n",
       "    <tr>\n",
       "      <th>2020-12-17 22:59:41</th>\n",
       "      <td>0-15</td>\n",
       "      <td>Male</td>\n",
       "      <td>Ukraine, Lviv</td>\n",
       "      <td>No</td>\n",
       "      <td>No</td>\n",
       "      <td>&lt;0.9</td>\n",
       "      <td>&lt;0.9</td>\n",
       "      <td>2.0</td>\n",
       "      <td>False</td>\n",
       "      <td>Yes</td>\n",
       "      <td>Yes</td>\n",
       "      <td>No</td>\n",
       "      <td>NaN</td>\n",
       "    </tr>\n",
       "    <tr>\n",
       "      <th>2020-10-09 19:35:56</th>\n",
       "      <td>0-15</td>\n",
       "      <td>Male</td>\n",
       "      <td>Ukraine, Lviv</td>\n",
       "      <td>No</td>\n",
       "      <td>No</td>\n",
       "      <td>&lt;0.9</td>\n",
       "      <td>&lt;0.9</td>\n",
       "      <td>4.0</td>\n",
       "      <td>False</td>\n",
       "      <td>No</td>\n",
       "      <td>Yes</td>\n",
       "      <td>No</td>\n",
       "      <td>NaN</td>\n",
       "    </tr>\n",
       "    <tr>\n",
       "      <th>...</th>\n",
       "      <td>...</td>\n",
       "      <td>...</td>\n",
       "      <td>...</td>\n",
       "      <td>...</td>\n",
       "      <td>...</td>\n",
       "      <td>...</td>\n",
       "      <td>...</td>\n",
       "      <td>...</td>\n",
       "      <td>...</td>\n",
       "      <td>...</td>\n",
       "      <td>...</td>\n",
       "      <td>...</td>\n",
       "      <td>...</td>\n",
       "    </tr>\n",
       "    <tr>\n",
       "      <th>2020-12-18 01:44:32</th>\n",
       "      <td>&gt;65</td>\n",
       "      <td>Female</td>\n",
       "      <td>Ukraine, Lviv</td>\n",
       "      <td>Yes</td>\n",
       "      <td>No</td>\n",
       "      <td>&lt;0.9</td>\n",
       "      <td>&lt;0.9</td>\n",
       "      <td>4.0</td>\n",
       "      <td>False</td>\n",
       "      <td>Yes</td>\n",
       "      <td>Yes</td>\n",
       "      <td>No</td>\n",
       "      <td>NaN</td>\n",
       "    </tr>\n",
       "    <tr>\n",
       "      <th>2020-12-18 01:44:32</th>\n",
       "      <td>&gt;65</td>\n",
       "      <td>Female</td>\n",
       "      <td>Ukraine, Lviv</td>\n",
       "      <td>Yes</td>\n",
       "      <td>No</td>\n",
       "      <td>&lt;0.9</td>\n",
       "      <td>&lt;0.9</td>\n",
       "      <td>4.0</td>\n",
       "      <td>False</td>\n",
       "      <td>Yes</td>\n",
       "      <td>Yes</td>\n",
       "      <td>No</td>\n",
       "      <td>NaN</td>\n",
       "    </tr>\n",
       "    <tr>\n",
       "      <th>2020-09-22 17:35:09</th>\n",
       "      <td>&gt;65</td>\n",
       "      <td>Female</td>\n",
       "      <td>Ukraine, Lviv</td>\n",
       "      <td>No</td>\n",
       "      <td>No</td>\n",
       "      <td>&lt;0.9</td>\n",
       "      <td>&lt;0.9</td>\n",
       "      <td>1.0</td>\n",
       "      <td>False</td>\n",
       "      <td>Yes</td>\n",
       "      <td>No</td>\n",
       "      <td>No</td>\n",
       "      <td>NaN</td>\n",
       "    </tr>\n",
       "    <tr>\n",
       "      <th>2020-10-12 14:58:30</th>\n",
       "      <td>&gt;65</td>\n",
       "      <td>Male</td>\n",
       "      <td>Ukraine, Lviv</td>\n",
       "      <td>No</td>\n",
       "      <td>Yes</td>\n",
       "      <td>&gt;1.1</td>\n",
       "      <td>0.9-1.1</td>\n",
       "      <td>2.0</td>\n",
       "      <td>False</td>\n",
       "      <td>Yes</td>\n",
       "      <td>No</td>\n",
       "      <td>No</td>\n",
       "      <td>38.4</td>\n",
       "    </tr>\n",
       "    <tr>\n",
       "      <th>2021-01-14 09:50:55</th>\n",
       "      <td>NaN</td>\n",
       "      <td>Female</td>\n",
       "      <td>Ukraine, Lviv</td>\n",
       "      <td>No</td>\n",
       "      <td>Yes</td>\n",
       "      <td>&gt;1.1</td>\n",
       "      <td>&gt;1.1</td>\n",
       "      <td>2.0</td>\n",
       "      <td>False</td>\n",
       "      <td>Yes</td>\n",
       "      <td>nan</td>\n",
       "      <td>No</td>\n",
       "      <td>38.0</td>\n",
       "    </tr>\n",
       "  </tbody>\n",
       "</table>\n",
       "<p>3297 rows × 13 columns</p>\n",
       "</div>"
      ],
      "text/plain": [
       "                      Age   Gender          Region Do you smoke?  \\\n",
       "Date time                                                          \n",
       "2020-12-30 02:10:07  0-15    Male   Ukraine, Lviv             No   \n",
       "2020-12-17 19:19:43  0-15  Female   Ukraine, Lviv             No   \n",
       "2020-12-17 22:59:41  0-15    Male   Ukraine, Lviv             No   \n",
       "2020-12-17 22:59:41  0-15    Male   Ukraine, Lviv             No   \n",
       "2020-10-09 19:35:56  0-15    Male   Ukraine, Lviv             No   \n",
       "...                   ...      ...             ...           ...   \n",
       "2020-12-18 01:44:32   >65  Female   Ukraine, Lviv            Yes   \n",
       "2020-12-18 01:44:32   >65  Female   Ukraine, Lviv            Yes   \n",
       "2020-09-22 17:35:09   >65  Female   Ukraine, Lviv             No   \n",
       "2020-10-12 14:58:30   >65    Male   Ukraine, Lviv             No   \n",
       "2021-01-14 09:50:55   NaN  Female   Ukraine, Lviv             No   \n",
       "\n",
       "                    Have you had Covid`19 this year? IgM level IgG level  \\\n",
       "Date time                                                                  \n",
       "2020-12-30 02:10:07                               No     <0.9      <0.9    \n",
       "2020-12-17 19:19:43                               No     <0.9      <0.9    \n",
       "2020-12-17 22:59:41                               No     <0.9      <0.9    \n",
       "2020-12-17 22:59:41                               No     <0.9      <0.9    \n",
       "2020-10-09 19:35:56                               No     <0.9      <0.9    \n",
       "...                                              ...       ...       ...   \n",
       "2020-12-18 01:44:32                               No     <0.9      <0.9    \n",
       "2020-12-18 01:44:32                               No     <0.9      <0.9    \n",
       "2020-09-22 17:35:09                               No     <0.9      <0.9    \n",
       "2020-10-12 14:58:30                              Yes     >1.1   0.9-1.1    \n",
       "2021-01-14 09:50:55                              Yes     >1.1      >1.1    \n",
       "\n",
       "                    Blood group Do you vaccinated influenza?  \\\n",
       "Date time                                                      \n",
       "2020-12-30 02:10:07         3.0                        False   \n",
       "2020-12-17 19:19:43         2.0                        False   \n",
       "2020-12-17 22:59:41         2.0                        False   \n",
       "2020-12-17 22:59:41         2.0                        False   \n",
       "2020-10-09 19:35:56         4.0                        False   \n",
       "...                         ...                          ...   \n",
       "2020-12-18 01:44:32         4.0                        False   \n",
       "2020-12-18 01:44:32         4.0                        False   \n",
       "2020-09-22 17:35:09         1.0                        False   \n",
       "2020-10-12 14:58:30         2.0                        False   \n",
       "2021-01-14 09:50:55         2.0                        False   \n",
       "\n",
       "                    Do you vaccinated tuberculosis?  \\\n",
       "Date time                                             \n",
       "2020-12-30 02:10:07                              No   \n",
       "2020-12-17 19:19:43                          Maybe    \n",
       "2020-12-17 22:59:41                             Yes   \n",
       "2020-12-17 22:59:41                             Yes   \n",
       "2020-10-09 19:35:56                              No   \n",
       "...                                             ...   \n",
       "2020-12-18 01:44:32                             Yes   \n",
       "2020-12-18 01:44:32                             Yes   \n",
       "2020-09-22 17:35:09                             Yes   \n",
       "2020-10-12 14:58:30                             Yes   \n",
       "2021-01-14 09:50:55                             Yes   \n",
       "\n",
       "                    Have you had influenza this year?  \\\n",
       "Date time                                               \n",
       "2020-12-30 02:10:07                               Yes   \n",
       "2020-12-17 19:19:43                            Maybe    \n",
       "2020-12-17 22:59:41                               Yes   \n",
       "2020-12-17 22:59:41                               Yes   \n",
       "2020-10-09 19:35:56                               Yes   \n",
       "...                                               ...   \n",
       "2020-12-18 01:44:32                               Yes   \n",
       "2020-12-18 01:44:32                               Yes   \n",
       "2020-09-22 17:35:09                                No   \n",
       "2020-10-12 14:58:30                                No   \n",
       "2021-01-14 09:50:55                               nan   \n",
       "\n",
       "                    Have you had tuberculosis this year?   \\\n",
       "Date time                                                   \n",
       "2020-12-30 02:10:07                                    No   \n",
       "2020-12-17 19:19:43                                    No   \n",
       "2020-12-17 22:59:41                                    No   \n",
       "2020-12-17 22:59:41                                    No   \n",
       "2020-10-09 19:35:56                                    No   \n",
       "...                                                   ...   \n",
       "2020-12-18 01:44:32                                    No   \n",
       "2020-12-18 01:44:32                                    No   \n",
       "2020-09-22 17:35:09                                    No   \n",
       "2020-10-12 14:58:30                                    No   \n",
       "2021-01-14 09:50:55                                    No   \n",
       "\n",
       "                     Maximum body temperature  \n",
       "Date time                                      \n",
       "2020-12-30 02:10:07                       NaN  \n",
       "2020-12-17 19:19:43                       NaN  \n",
       "2020-12-17 22:59:41                       NaN  \n",
       "2020-12-17 22:59:41                       NaN  \n",
       "2020-10-09 19:35:56                       NaN  \n",
       "...                                       ...  \n",
       "2020-12-18 01:44:32                       NaN  \n",
       "2020-12-18 01:44:32                       NaN  \n",
       "2020-09-22 17:35:09                       NaN  \n",
       "2020-10-12 14:58:30                      38.4  \n",
       "2021-01-14 09:50:55                      38.0  \n",
       "\n",
       "[3297 rows x 13 columns]"
      ]
     },
     "execution_count": 27,
     "metadata": {},
     "output_type": "execute_result"
    }
   ],
   "source": [
    "df.sort_values(by='Age', \n",
    "        ascending=True)"
   ]
  },
  {
   "cell_type": "markdown",
   "metadata": {},
   "source": [
    "You should specify the list of fields and the order direction in the **'by'** and **'ascending'** parameters. So, to sort by the fields 'Age' in ascending order and 'Gender' in descending order, you need:\n"
   ]
  },
  {
   "cell_type": "code",
   "execution_count": 28,
   "metadata": {
    "tags": []
   },
   "outputs": [
    {
     "data": {
      "text/html": [
       "<div>\n",
       "<style scoped>\n",
       "    .dataframe tbody tr th:only-of-type {\n",
       "        vertical-align: middle;\n",
       "    }\n",
       "\n",
       "    .dataframe tbody tr th {\n",
       "        vertical-align: top;\n",
       "    }\n",
       "\n",
       "    .dataframe thead th {\n",
       "        text-align: right;\n",
       "    }\n",
       "</style>\n",
       "<table border=\"1\" class=\"dataframe\">\n",
       "  <thead>\n",
       "    <tr style=\"text-align: right;\">\n",
       "      <th></th>\n",
       "      <th>Age</th>\n",
       "      <th>Gender</th>\n",
       "      <th>Region</th>\n",
       "      <th>Do you smoke?</th>\n",
       "      <th>Have you had Covid`19 this year?</th>\n",
       "      <th>IgM level</th>\n",
       "      <th>IgG level</th>\n",
       "      <th>Blood group</th>\n",
       "      <th>Do you vaccinated influenza?</th>\n",
       "      <th>Do you vaccinated tuberculosis?</th>\n",
       "      <th>Have you had influenza this year?</th>\n",
       "      <th>Have you had tuberculosis this year?</th>\n",
       "      <th>Maximum body temperature</th>\n",
       "    </tr>\n",
       "    <tr>\n",
       "      <th>Date time</th>\n",
       "      <th></th>\n",
       "      <th></th>\n",
       "      <th></th>\n",
       "      <th></th>\n",
       "      <th></th>\n",
       "      <th></th>\n",
       "      <th></th>\n",
       "      <th></th>\n",
       "      <th></th>\n",
       "      <th></th>\n",
       "      <th></th>\n",
       "      <th></th>\n",
       "      <th></th>\n",
       "    </tr>\n",
       "  </thead>\n",
       "  <tbody>\n",
       "    <tr>\n",
       "      <th>2020-09-20 11:26:09</th>\n",
       "      <td>0-15</td>\n",
       "      <td>Male</td>\n",
       "      <td>Ukraine, Lviv</td>\n",
       "      <td>No</td>\n",
       "      <td>No</td>\n",
       "      <td>&lt;0.9</td>\n",
       "      <td>&lt;0.9</td>\n",
       "      <td>2.0</td>\n",
       "      <td>False</td>\n",
       "      <td>Yes</td>\n",
       "      <td>No</td>\n",
       "      <td>No</td>\n",
       "      <td>NaN</td>\n",
       "    </tr>\n",
       "    <tr>\n",
       "      <th>2020-09-26 11:19:25</th>\n",
       "      <td>0-15</td>\n",
       "      <td>Male</td>\n",
       "      <td>Ukraine, Lviv</td>\n",
       "      <td>No</td>\n",
       "      <td>No</td>\n",
       "      <td>&lt;0.9</td>\n",
       "      <td>&lt;0.9</td>\n",
       "      <td>4.0</td>\n",
       "      <td>False</td>\n",
       "      <td>No</td>\n",
       "      <td>Yes</td>\n",
       "      <td>No</td>\n",
       "      <td>NaN</td>\n",
       "    </tr>\n",
       "    <tr>\n",
       "      <th>2020-09-26 11:42:15</th>\n",
       "      <td>0-15</td>\n",
       "      <td>Male</td>\n",
       "      <td>Ukraine, Lviv</td>\n",
       "      <td>No</td>\n",
       "      <td>Maybe</td>\n",
       "      <td>&lt;0.9</td>\n",
       "      <td>0.9-1.1</td>\n",
       "      <td>1.0</td>\n",
       "      <td>False</td>\n",
       "      <td>Yes</td>\n",
       "      <td>Maybe</td>\n",
       "      <td>No</td>\n",
       "      <td>38.7</td>\n",
       "    </tr>\n",
       "    <tr>\n",
       "      <th>2020-10-09 19:35:56</th>\n",
       "      <td>0-15</td>\n",
       "      <td>Male</td>\n",
       "      <td>Ukraine, Lviv</td>\n",
       "      <td>No</td>\n",
       "      <td>No</td>\n",
       "      <td>&lt;0.9</td>\n",
       "      <td>&lt;0.9</td>\n",
       "      <td>4.0</td>\n",
       "      <td>False</td>\n",
       "      <td>No</td>\n",
       "      <td>Yes</td>\n",
       "      <td>No</td>\n",
       "      <td>NaN</td>\n",
       "    </tr>\n",
       "    <tr>\n",
       "      <th>2020-11-24 10:55:41</th>\n",
       "      <td>0-15</td>\n",
       "      <td>Male</td>\n",
       "      <td>Ukraine, Lviv</td>\n",
       "      <td>No</td>\n",
       "      <td>No</td>\n",
       "      <td>&lt;0.9</td>\n",
       "      <td>0.9-1.1</td>\n",
       "      <td>1.0</td>\n",
       "      <td>False</td>\n",
       "      <td>Yes</td>\n",
       "      <td>No</td>\n",
       "      <td>No</td>\n",
       "      <td>NaN</td>\n",
       "    </tr>\n",
       "  </tbody>\n",
       "</table>\n",
       "</div>"
      ],
      "text/plain": [
       "                      Age Gender          Region Do you smoke?  \\\n",
       "Date time                                                        \n",
       "2020-09-20 11:26:09  0-15  Male   Ukraine, Lviv             No   \n",
       "2020-09-26 11:19:25  0-15  Male   Ukraine, Lviv             No   \n",
       "2020-09-26 11:42:15  0-15  Male   Ukraine, Lviv             No   \n",
       "2020-10-09 19:35:56  0-15  Male   Ukraine, Lviv             No   \n",
       "2020-11-24 10:55:41  0-15  Male   Ukraine, Lviv             No   \n",
       "\n",
       "                    Have you had Covid`19 this year? IgM level IgG level  \\\n",
       "Date time                                                                  \n",
       "2020-09-20 11:26:09                               No     <0.9      <0.9    \n",
       "2020-09-26 11:19:25                               No     <0.9      <0.9    \n",
       "2020-09-26 11:42:15                           Maybe      <0.9   0.9-1.1    \n",
       "2020-10-09 19:35:56                               No     <0.9      <0.9    \n",
       "2020-11-24 10:55:41                               No     <0.9   0.9-1.1    \n",
       "\n",
       "                    Blood group Do you vaccinated influenza?  \\\n",
       "Date time                                                      \n",
       "2020-09-20 11:26:09         2.0                        False   \n",
       "2020-09-26 11:19:25         4.0                        False   \n",
       "2020-09-26 11:42:15         1.0                        False   \n",
       "2020-10-09 19:35:56         4.0                        False   \n",
       "2020-11-24 10:55:41         1.0                        False   \n",
       "\n",
       "                    Do you vaccinated tuberculosis?  \\\n",
       "Date time                                             \n",
       "2020-09-20 11:26:09                             Yes   \n",
       "2020-09-26 11:19:25                              No   \n",
       "2020-09-26 11:42:15                             Yes   \n",
       "2020-10-09 19:35:56                              No   \n",
       "2020-11-24 10:55:41                             Yes   \n",
       "\n",
       "                    Have you had influenza this year?  \\\n",
       "Date time                                               \n",
       "2020-09-20 11:26:09                                No   \n",
       "2020-09-26 11:19:25                               Yes   \n",
       "2020-09-26 11:42:15                            Maybe    \n",
       "2020-10-09 19:35:56                               Yes   \n",
       "2020-11-24 10:55:41                                No   \n",
       "\n",
       "                    Have you had tuberculosis this year?   \\\n",
       "Date time                                                   \n",
       "2020-09-20 11:26:09                                    No   \n",
       "2020-09-26 11:19:25                                    No   \n",
       "2020-09-26 11:42:15                                    No   \n",
       "2020-10-09 19:35:56                                    No   \n",
       "2020-11-24 10:55:41                                    No   \n",
       "\n",
       "                     Maximum body temperature  \n",
       "Date time                                      \n",
       "2020-09-20 11:26:09                       NaN  \n",
       "2020-09-26 11:19:25                       NaN  \n",
       "2020-09-26 11:42:15                      38.7  \n",
       "2020-10-09 19:35:56                       NaN  \n",
       "2020-11-24 10:55:41                       NaN  "
      ]
     },
     "execution_count": 28,
     "metadata": {},
     "output_type": "execute_result"
    }
   ],
   "source": [
    "df.sort_values(by=['Age', 'Gender'], ascending=[True, False]).head()"
   ]
  },
  {
   "cell_type": "markdown",
   "metadata": {},
   "source": [
    "### Data transformation\n"
   ]
  },
  {
   "cell_type": "markdown",
   "metadata": {},
   "source": [
    "To obtain information on a specific category field, you can use:\n"
   ]
  },
  {
   "cell_type": "code",
   "execution_count": 29,
   "metadata": {
    "tags": []
   },
   "outputs": [
    {
     "data": {
      "text/plain": [
       "Female     1818\n",
       "Male       1479\n",
       "Name: Gender, dtype: int64"
      ]
     },
     "execution_count": 29,
     "metadata": {},
     "output_type": "execute_result"
    }
   ],
   "source": [
    "df['Gender'].value_counts()"
   ]
  },
  {
   "cell_type": "markdown",
   "metadata": {},
   "source": [
    "The list of unique values can be obtained as follows:\n"
   ]
  },
  {
   "cell_type": "code",
   "execution_count": 30,
   "metadata": {
    "tags": []
   },
   "outputs": [
    {
     "data": {
      "text/plain": [
       "CategoricalIndex(['Female ', 'Male '], categories=['Female ', 'Male '], ordered=False, dtype='category')"
      ]
     },
     "execution_count": 30,
     "metadata": {},
     "output_type": "execute_result"
    }
   ],
   "source": [
    "df['Gender'].value_counts().keys()"
   ]
  },
  {
   "cell_type": "markdown",
   "metadata": {},
   "source": [
    "The average value of temperature for women only can be obtained as (**[mean()](https://pandas.pydata.org/docs/getting_started/intro_tutorials/06_calculate_statistics.html?utm_medium=Exinfluencer&utm_source=Exinfluencer&utm_content=000026UJ&utm_term=10006555&utm_id=NA-SkillsNetwork-Channel-SkillsNetworkGuidedProjectsdatascienceinhealthcarebasicstatisticalanalysis507-2022-01-01&highlight=statistical)**):\n"
   ]
  },
  {
   "cell_type": "code",
   "execution_count": 31,
   "metadata": {
    "tags": []
   },
   "outputs": [
    {
     "data": {
      "text/plain": [
       "37.70680529300562"
      ]
     },
     "execution_count": 31,
     "metadata": {},
     "output_type": "execute_result"
    }
   ],
   "source": [
    "df[df['Gender'] == 'Female ']['Maximum body temperature'].mean()"
   ]
  },
  {
   "cell_type": "markdown",
   "metadata": {},
   "source": [
    "The maximum temperature of men who smoke and have COVID-19 is:\n"
   ]
  },
  {
   "cell_type": "code",
   "execution_count": 32,
   "metadata": {
    "tags": []
   },
   "outputs": [
    {
     "data": {
      "text/plain": [
       "38.8"
      ]
     },
     "execution_count": 32,
     "metadata": {},
     "output_type": "execute_result"
    }
   ],
   "source": [
    "df[(df['Gender'] == 'Male ') & (df['Do you smoke?'] == 'Yes') & (df['Have you had Covid`19 this year?'] == 'Yes')]['Maximum body temperature'].max()"
   ]
  },
  {
   "cell_type": "markdown",
   "metadata": {},
   "source": [
    "Otherwise, you can get complete statistics by class separately by grouping the data.\n"
   ]
  },
  {
   "cell_type": "code",
   "execution_count": 33,
   "metadata": {
    "tags": []
   },
   "outputs": [
    {
     "data": {
      "text/html": [
       "<div>\n",
       "<style scoped>\n",
       "    .dataframe tbody tr th:only-of-type {\n",
       "        vertical-align: middle;\n",
       "    }\n",
       "\n",
       "    .dataframe tbody tr th {\n",
       "        vertical-align: top;\n",
       "    }\n",
       "\n",
       "    .dataframe thead th {\n",
       "        text-align: right;\n",
       "    }\n",
       "</style>\n",
       "<table border=\"1\" class=\"dataframe\">\n",
       "  <thead>\n",
       "    <tr style=\"text-align: right;\">\n",
       "      <th></th>\n",
       "      <th>count</th>\n",
       "      <th>mean</th>\n",
       "      <th>std</th>\n",
       "      <th>min</th>\n",
       "      <th>25%</th>\n",
       "      <th>50%</th>\n",
       "      <th>75%</th>\n",
       "      <th>max</th>\n",
       "    </tr>\n",
       "    <tr>\n",
       "      <th>Gender</th>\n",
       "      <th></th>\n",
       "      <th></th>\n",
       "      <th></th>\n",
       "      <th></th>\n",
       "      <th></th>\n",
       "      <th></th>\n",
       "      <th></th>\n",
       "      <th></th>\n",
       "    </tr>\n",
       "  </thead>\n",
       "  <tbody>\n",
       "    <tr>\n",
       "      <th>Female</th>\n",
       "      <td>1058.0</td>\n",
       "      <td>37.706805</td>\n",
       "      <td>0.625076</td>\n",
       "      <td>36.6</td>\n",
       "      <td>37.2</td>\n",
       "      <td>37.7</td>\n",
       "      <td>38.2</td>\n",
       "      <td>38.8</td>\n",
       "    </tr>\n",
       "    <tr>\n",
       "      <th>Male</th>\n",
       "      <td>471.0</td>\n",
       "      <td>37.717834</td>\n",
       "      <td>0.655371</td>\n",
       "      <td>36.6</td>\n",
       "      <td>37.1</td>\n",
       "      <td>37.7</td>\n",
       "      <td>38.3</td>\n",
       "      <td>38.8</td>\n",
       "    </tr>\n",
       "  </tbody>\n",
       "</table>\n",
       "</div>"
      ],
      "text/plain": [
       "          count       mean       std   min   25%   50%   75%   max\n",
       "Gender                                                            \n",
       "Female   1058.0  37.706805  0.625076  36.6  37.2  37.7  38.2  38.8\n",
       "Male      471.0  37.717834  0.655371  36.6  37.1  37.7  38.3  38.8"
      ]
     },
     "execution_count": 33,
     "metadata": {},
     "output_type": "execute_result"
    }
   ],
   "source": [
    "df.groupby(['Gender'])['Maximum body temperature'].describe()"
   ]
  },
  {
   "cell_type": "markdown",
   "metadata": {},
   "source": [
    "### Pivot tables\n"
   ]
  },
  {
   "cell_type": "markdown",
   "metadata": {},
   "source": [
    "Let's suppose that we need to count how many men and women are there of each age group. To do this, use the **[crosstab()](https://pandas.pydata.org/docs/reference/api/pandas.crosstab.html?utm_medium=Exinfluencer&utm_source=Exinfluencer&utm_content=000026UJ&utm_term=10006555&utm_id=NA-SkillsNetwork-Channel-SkillsNetworkGuidedProjectsdatascienceinhealthcarebasicstatisticalanalysis507-2022-01-01&highlight=crosstab#pandas.crosstab)** function:\n"
   ]
  },
  {
   "cell_type": "code",
   "execution_count": 34,
   "metadata": {
    "tags": []
   },
   "outputs": [
    {
     "data": {
      "text/html": [
       "<div>\n",
       "<style scoped>\n",
       "    .dataframe tbody tr th:only-of-type {\n",
       "        vertical-align: middle;\n",
       "    }\n",
       "\n",
       "    .dataframe tbody tr th {\n",
       "        vertical-align: top;\n",
       "    }\n",
       "\n",
       "    .dataframe thead th {\n",
       "        text-align: right;\n",
       "    }\n",
       "</style>\n",
       "<table border=\"1\" class=\"dataframe\">\n",
       "  <thead>\n",
       "    <tr style=\"text-align: right;\">\n",
       "      <th>Gender</th>\n",
       "      <th>Female</th>\n",
       "      <th>Male</th>\n",
       "    </tr>\n",
       "    <tr>\n",
       "      <th>Age</th>\n",
       "      <th></th>\n",
       "      <th></th>\n",
       "    </tr>\n",
       "  </thead>\n",
       "  <tbody>\n",
       "    <tr>\n",
       "      <th>0-15</th>\n",
       "      <td>15</td>\n",
       "      <td>28</td>\n",
       "    </tr>\n",
       "    <tr>\n",
       "      <th>16-22</th>\n",
       "      <td>266</td>\n",
       "      <td>557</td>\n",
       "    </tr>\n",
       "    <tr>\n",
       "      <th>23-40</th>\n",
       "      <td>645</td>\n",
       "      <td>529</td>\n",
       "    </tr>\n",
       "    <tr>\n",
       "      <th>40-65</th>\n",
       "      <td>795</td>\n",
       "      <td>268</td>\n",
       "    </tr>\n",
       "    <tr>\n",
       "      <th>&gt;65</th>\n",
       "      <td>96</td>\n",
       "      <td>97</td>\n",
       "    </tr>\n",
       "  </tbody>\n",
       "</table>\n",
       "</div>"
      ],
      "text/plain": [
       "Gender  Female   Male \n",
       "Age                   \n",
       "0-15         15     28\n",
       "16-22       266    557\n",
       "23-40       645    529\n",
       "40-65       795    268\n",
       ">65          96     97"
      ]
     },
     "execution_count": 34,
     "metadata": {},
     "output_type": "execute_result"
    }
   ],
   "source": [
    "pd.crosstab(df['Age'], df['Gender'])"
   ]
  },
  {
   "cell_type": "markdown",
   "metadata": {},
   "source": [
    "The table shows that most of the interviewed people are aged from 23 to 65.\n"
   ]
  },
  {
   "cell_type": "markdown",
   "metadata": {},
   "source": [
    "To obtain summary information, for example, on body temperature, for men and women of each age group, it is necessary to use a pivot table **[pivot_table()](https://pandas.pydata.org/docs/reference/api/pandas.DataFrame.pivot_table.html?utm_medium=Exinfluencer&utm_source=Exinfluencer&utm_content=000026UJ&utm_term=10006555&utm_id=NA-SkillsNetwork-Channel-SkillsNetworkGuidedProjectsdatascienceinhealthcarebasicstatisticalanalysis507-2022-01-01&highlight=pivot_table#pandas.DataFrame.pivot_table)**\n"
   ]
  },
  {
   "cell_type": "code",
   "execution_count": 35,
   "metadata": {
    "tags": []
   },
   "outputs": [
    {
     "data": {
      "text/html": [
       "<div>\n",
       "<style scoped>\n",
       "    .dataframe tbody tr th:only-of-type {\n",
       "        vertical-align: middle;\n",
       "    }\n",
       "\n",
       "    .dataframe tbody tr th {\n",
       "        vertical-align: top;\n",
       "    }\n",
       "\n",
       "    .dataframe thead th {\n",
       "        text-align: right;\n",
       "    }\n",
       "</style>\n",
       "<table border=\"1\" class=\"dataframe\">\n",
       "  <thead>\n",
       "    <tr style=\"text-align: right;\">\n",
       "      <th>Gender</th>\n",
       "      <th>Female</th>\n",
       "      <th>Male</th>\n",
       "      <th>All</th>\n",
       "    </tr>\n",
       "    <tr>\n",
       "      <th>Age</th>\n",
       "      <th></th>\n",
       "      <th></th>\n",
       "      <th></th>\n",
       "    </tr>\n",
       "  </thead>\n",
       "  <tbody>\n",
       "    <tr>\n",
       "      <th>0-15</th>\n",
       "      <td>38.500000</td>\n",
       "      <td>37.437500</td>\n",
       "      <td>37.555556</td>\n",
       "    </tr>\n",
       "    <tr>\n",
       "      <th>16-22</th>\n",
       "      <td>37.731579</td>\n",
       "      <td>37.790196</td>\n",
       "      <td>37.746305</td>\n",
       "    </tr>\n",
       "    <tr>\n",
       "      <th>23-40</th>\n",
       "      <td>37.759053</td>\n",
       "      <td>37.754680</td>\n",
       "      <td>37.757473</td>\n",
       "    </tr>\n",
       "    <tr>\n",
       "      <th>40-65</th>\n",
       "      <td>37.679435</td>\n",
       "      <td>37.690780</td>\n",
       "      <td>37.681947</td>\n",
       "    </tr>\n",
       "    <tr>\n",
       "      <th>&gt;65</th>\n",
       "      <td>37.502041</td>\n",
       "      <td>37.642647</td>\n",
       "      <td>37.583761</td>\n",
       "    </tr>\n",
       "    <tr>\n",
       "      <th>All</th>\n",
       "      <td>37.706528</td>\n",
       "      <td>37.717834</td>\n",
       "      <td>37.710013</td>\n",
       "    </tr>\n",
       "  </tbody>\n",
       "</table>\n",
       "</div>"
      ],
      "text/plain": [
       "Gender    Female       Male         All\n",
       "Age                                    \n",
       "0-15    38.500000  37.437500  37.555556\n",
       "16-22   37.731579  37.790196  37.746305\n",
       "23-40   37.759053  37.754680  37.757473\n",
       "40-65   37.679435  37.690780  37.681947\n",
       ">65     37.502041  37.642647  37.583761\n",
       "All     37.706528  37.717834  37.710013"
      ]
     },
     "execution_count": 35,
     "metadata": {},
     "output_type": "execute_result"
    }
   ],
   "source": [
    "pd.pivot_table(df, values= 'Maximum body temperature', index= ['Age'], columns=['Gender'], aggfunc='mean', margins=True)"
   ]
  },
  {
   "cell_type": "markdown",
   "metadata": {},
   "source": [
    "This table shows the average temperature for women and men in terms of age groups.\n"
   ]
  },
  {
   "cell_type": "markdown",
   "metadata": {},
   "source": [
    "## Visualize Data\n"
   ]
  },
  {
   "cell_type": "markdown",
   "metadata": {},
   "source": [
    "Now let's visualize our data. \n",
    "We will use SeaBorn library.\n",
    "\n",
    "**Library documentation** \n",
    "\n",
    "https://seaborn.pydata.org\n"
   ]
  },
  {
   "cell_type": "markdown",
   "metadata": {},
   "source": [
    "Import the library.\n"
   ]
  },
  {
   "cell_type": "code",
   "execution_count": 36,
   "metadata": {
    "tags": []
   },
   "outputs": [],
   "source": [
    "import matplotlib.pyplot as plt\n",
    "import seaborn as sns"
   ]
  },
  {
   "cell_type": "markdown",
   "metadata": {},
   "source": [
    "Visualize the number of surveyed men and women in terms of age groups using **[countplot()](https://seaborn.pydata.org/generated/seaborn.countplot.html?utm_medium=Exinfluencer&utm_source=Exinfluencer&utm_content=000026UJ&utm_term=10006555&utm_id=NA-SkillsNetwork-Channel-SkillsNetworkGuidedProjectsdatascienceinhealthcarebasicstatisticalanalysis507-2022-01-01)**:\n"
   ]
  },
  {
   "cell_type": "code",
   "execution_count": 37,
   "metadata": {
    "tags": []
   },
   "outputs": [
    {
     "data": {
      "text/plain": [
       "<AxesSubplot:xlabel='Age', ylabel='count'>"
      ]
     },
     "execution_count": 37,
     "metadata": {},
     "output_type": "execute_result"
    },
    {
     "data": {
      "image/png": "[encoded data removed]",
      "text/plain": [
       "<Figure size 640x480 with 1 Axes>"
      ]
     },
     "metadata": {},
     "output_type": "display_data"
    }
   ],
   "source": [
    "sns.countplot(x='Age', hue='Gender', data=df)"
   ]
  },
  {
   "cell_type": "markdown",
   "metadata": {},
   "source": [
    "Let's analyze the dynamics of surveys during the whole time of research. To do this, you should group the data by day using the **[resample()](https://pandas.pydata.org/docs/reference/api/pandas.DataFrame.resample.html?utm_medium=Exinfluencer&utm_source=Exinfluencer&utm_content=000026UJ&utm_term=10006555&utm_id=NA-SkillsNetwork-Channel-SkillsNetworkGuidedProjectsdatascienceinhealthcarebasicstatisticalanalysis507-2022-01-01&highlight=resample#pandas.DataFrame.resample)** and **[plot()](https://pandas.pydata.org/docs/reference/api/pandas.DataFrame.plot.html?utm_medium=Exinfluencer&utm_source=Exinfluencer&utm_content=000026UJ&utm_term=10006555&utm_id=NA-SkillsNetwork-Channel-SkillsNetworkGuidedProjectsdatascienceinhealthcarebasicstatisticalanalysis507-2022-01-01&highlight=plot#pandas.DataFrame.plot)** methods.\n"
   ]
  },
  {
   "cell_type": "code",
   "execution_count": 38,
   "metadata": {
    "tags": []
   },
   "outputs": [
    {
     "data": {
      "text/plain": [
       "<AxesSubplot:xlabel='Date time'>"
      ]
     },
     "execution_count": 38,
     "metadata": {},
     "output_type": "execute_result"
    },
    {
     "data": {
      "image/png": "[encoded data removed]",
      "text/plain": [
       "<Figure size 640x480 with 1 Axes>"
      ]
     },
     "metadata": {},
     "output_type": "display_data"
    }
   ],
   "source": [
    "df.resample(str('1D')).sum().plot()"
   ]
  },
  {
   "cell_type": "markdown",
   "metadata": {},
   "source": [
    "Some of the surveyed patients were sure they had COVID-19 and others weren't. Let's plot the temperature distribution (**[distplot()](https://seaborn.pydata.org/generated/seaborn.distplot.html?utm_medium=Exinfluencer&utm_source=Exinfluencer&utm_content=000026UJ&utm_term=10006555&utm_id=NA-SkillsNetwork-Channel-SkillsNetworkGuidedProjectsdatascienceinhealthcarebasicstatisticalanalysis507-2022-01-01)**) of both groups on one figure that contains two graphs (**[subplots()](https://matplotlib.org/stable/api/_as_gen/matplotlib.pyplot.subplots.html?utm_medium=Exinfluencer&utm_source=Exinfluencer&utm_content=000026UJ&utm_term=10006555&utm_id=NA-SkillsNetwork-Channel-SkillsNetworkGuidedProjectsdatascienceinhealthcarebasicstatisticalanalysis507-2022-01-01)**)\n"
   ]
  },
  {
   "cell_type": "code",
   "execution_count": 39,
   "metadata": {
    "tags": []
   },
   "outputs": [
    {
     "data": {
      "text/plain": [
       "<AxesSubplot:xlabel='Maximum body temperature'>"
      ]
     },
     "execution_count": 39,
     "metadata": {},
     "output_type": "execute_result"
    },
    {
     "data": {
      "image/png": "[encoded data removed]",
      "text/plain": [
       "<Figure size 1600x600 with 2 Axes>"
      ]
     },
     "metadata": {},
     "output_type": "display_data"
    }
   ],
   "source": [
    "_, axes = plt.subplots(1, 2, sharey=True, figsize=(16,6))\n",
    "\n",
    "df_t = df[df['Have you had Covid`19 this year?'] == 'Yes'].dropna(subset=['Maximum body temperature'])\n",
    "sns.distplot(df_t['Maximum body temperature'], ax=axes[0])\n",
    "df_t = df[df['Have you had Covid`19 this year?'] == 'Maybe'].dropna(subset=['Maximum body temperature'])\n",
    "sns.distplot(df_t['Maximum body temperature'], ax=axes[1])"
   ]
  },
  {
   "cell_type": "markdown",
   "metadata": {},
   "source": [
    "We can conclude from the graphs that in case of COVID-19 the temperature can vary widely. People with temperature between 37-38 were not tested and were not sure of their diagnosis.\n"
   ]
  },
  {
   "cell_type": "markdown",
   "metadata": {},
   "source": [
    "Let's build temperature dependence on age group (**[boxplot()](https://seaborn.pydata.org/generated/seaborn.boxplot.html?utm_medium=Exinfluencer&utm_source=Exinfluencer&utm_content=000026UJ&utm_term=10006555&utm_id=NA-SkillsNetwork-Channel-SkillsNetworkGuidedProjectsdatascienceinhealthcarebasicstatisticalanalysis507-2022-01-01&highlight=boxplot#seaborn.boxplot)** or **[violinplot()](https://seaborn.pydata.org/generated/seaborn.violinplot.html?utm_medium=Exinfluencer&utm_source=Exinfluencer&utm_content=000026UJ&utm_term=10006555&utm_id=NA-SkillsNetwork-Channel-SkillsNetworkGuidedProjectsdatascienceinhealthcarebasicstatisticalanalysis507-2022-01-01)**). The graph shows the data quarters. The midline of the rectangle is the median. The whiskers show the data scatter.\n"
   ]
  },
  {
   "cell_type": "code",
   "execution_count": 40,
   "metadata": {
    "tags": []
   },
   "outputs": [
    {
     "data": {
      "text/plain": [
       "<AxesSubplot:xlabel='Maximum body temperature', ylabel='Age'>"
      ]
     },
     "execution_count": 40,
     "metadata": {},
     "output_type": "execute_result"
    },
    {
     "data": {
      "image/png": "[encoded data removed]",
      "text/plain": [
       "<Figure size 1600x600 with 2 Axes>"
      ]
     },
     "metadata": {},
     "output_type": "display_data"
    }
   ],
   "source": [
    "cols = ['Maximum body temperature', 'Maximum body temperature']\n",
    "_, axes = plt.subplots(1, 2, sharey=True, figsize=(16,6))\n",
    "sns.boxplot(y = df[\"Age\"], x=df[\"Maximum body temperature\"], ax=axes[0])\n",
    "sns.violinplot(y = df[\"Age\"], x=df[\"Maximum body temperature\"],ax=axes[1] )"
   ]
  },
  {
   "cell_type": "markdown",
   "metadata": {},
   "source": [
    "## Conclusions\n"
   ]
  },
  {
   "cell_type": "markdown",
   "metadata": {},
   "source": [
    "As practice shows, the data obtained in real field experiments is not suitable for direct statistical processing. Therefore, in this lab we learned the basic methods of downloading and preliminary data preparation.\n",
    "Unlike the well-known classical approaches to statistical data analysis, Python contains many powerful libraries that allow you to manipulate data easily and quickly. Therefore, we have learned the basic methods of automating a library such as Pandas for statistical data analysis. We also learned the basic methods of visualizing the obtained data with the SeaBorn library which also contains effective means of visual data analysis.\n"
   ]
  },
  {
   "cell_type": "markdown",
   "metadata": {},
   "source": [
    "## Authors\n"
   ]
  },
  {
   "cell_type": "markdown",
   "metadata": {},
   "source": [
    "[Yaroslav Vyklyuk, prof., PhD., DrSc](http://vyklyuk.bukuniver.edu.ua/en/?utm_medium=Exinfluencer&utm_source=Exinfluencer&utm_content=000026UJ&utm_term=10006555&utm_id=NA-SkillsNetwork-Channel-SkillsNetworkGuidedProjectsdatascienceinhealthcarebasicstatisticalanalysis507-2022-01-01)\n"
   ]
  },
  {
   "cell_type": "markdown",
   "metadata": {},
   "source": [
    " Copyright &copy; 2020 IBM Corporation. This notebook and its source code are released under the terms of the [MIT License](https://cognitiveclass.ai/mit-license/?utm_medium=Exinfluencer&utm_source=Exinfluencer&utm_content=000026UJ&utm_term=10006555&utm_id=NA-SkillsNetwork-Channel-SkillsNetworkGuidedProjectsdatascienceinhealthcarebasicstatisticalanalysis507-2022-01-01).\n"
   ]
  }
 ],
 "metadata": {
  "kernelspec": {
   "display_name": "Python",
   "language": "python",
   "name": "conda-env-python-py"
  },
  "language_info": {
   "codemirror_mode": {
    "name": "ipython",
    "version": 3
   },
   "file_extension": ".py",
   "mimetype": "text/x-python",
   "name": "python",
   "nbconvert_exporter": "python",
   "pygments_lexer": "ipython3",
   "version": "3.7.12"
  }
 },
 "nbformat": 4,
 "nbformat_minor": 4
}
