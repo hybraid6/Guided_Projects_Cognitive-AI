{
 "cells": [
  {
   "cell_type": "markdown",
   "metadata": {},
   "source": [
    "<p style=\"text-align:center\">\n",
    "    <a href=\"https://skills.network/?utm_medium=Exinfluencer&utm_source=Exinfluencer&utm_content=000026UJ&utm_term=10006555&utm_id=NA-SkillsNetwork-Channel-SkillsNetworkQuickLabsIBMGPXX0T15EN38051942-2022-01-01\" target=\"_blank\">\n",
    "    <img src=\"https://cf-courses-data.s3.us.cloud-object-storage.appdomain.cloud/assets/logos/SN_web_lightmode.png\" width=\"200\" alt=\"Skills Network Logo\"  />\n",
    "    </a>\n",
    "</p>\n"
   ]
  },
  {
   "cell_type": "markdown",
   "metadata": {},
   "source": [
    "# **Design Rock-Paper-Scissor mini-Game Project in Python**\n"
   ]
  },
  {
   "cell_type": "markdown",
   "metadata": {},
   "source": [
    "Estimated time needed: **30** minutes\n"
   ]
  },
  {
   "cell_type": "markdown",
   "metadata": {},
   "source": [
    "Step by step demonstration is given here to create your own Rock-Paper-Scissor game in Python.\n",
    "\n",
    "Pre-requisites:\n",
    "\n",
    "1.  Basic knowledge of Python Programming\n"
   ]
  },
  {
   "cell_type": "markdown",
   "metadata": {},
   "source": [
    "## Objectives\n",
    "\n",
    "After completing this lab you will be able to understand the logic behind the game and implementing the game in Python.\n"
   ]
  },
  {
   "cell_type": "markdown",
   "metadata": {},
   "source": [
    "***\n"
   ]
  },
  {
   "cell_type": "markdown",
   "metadata": {},
   "source": [
    "## Setup\n"
   ]
  },
  {
   "cell_type": "markdown",
   "metadata": {},
   "source": [
    "For this lab, we will be using the following libraries:\n",
    "\n",
    "*   random\n",
    "*   sys\n",
    "*   re\n"
   ]
  },
  {
   "cell_type": "markdown",
   "metadata": {},
   "source": [
    "### Importing Required Libraries\n",
    "\n",
    "I recommend you import all required libraries in one place (here):\\_\n"
   ]
  },
  {
   "cell_type": "code",
   "execution_count": 1,
   "metadata": {},
   "outputs": [],
   "source": [
    "import random       # To generate random values\n",
    "import os          # To use system specific paremeters and functions\n",
    "import re           # To use Regular Expression"
   ]
  },
  {
   "cell_type": "markdown",
   "metadata": {},
   "source": [
    "## Designing the Game\n",
    "\n",
    "The Game includes a simple logic encapsulated in an unconditional while loop. <br>\n",
    "The code contains the following steps:\n",
    "\n",
    "*   Taking input from the user\n",
    "*   Validate the user input\n",
    "*   Generating computer input using random function\n",
    "*   Apply game rules using if-elif-else statement\n",
    "*   Generate the output\n",
    "\n",
    "Explaination is provided in the form of comments with every part of the code.\n"
   ]
  },
  {
   "cell_type": "code",
   "execution_count": null,
   "metadata": {},
   "outputs": [],
   "source": [
    "while (1<2):                 # creating a continuous loop\n",
    "    # Define Game\n",
    "    print (\"\\n\")\n",
    "    print (\"Rock, Paper, Scissors - Shoot!\")\n",
    "\n",
    "    # Taking input from user\n",
    "    userChoice = input(\"Choose your weapon [R]ock], [P]aper, [S]cissors, [E]xit: \")\n",
    "    \n",
    "    # Validating the user input\n",
    "    if (not re.match(\"[SsRrPpEe]\", userChoice)) or (len(userChoice) != 1):\n",
    "        print (\"Please choose a letter:\")\n",
    "        print (\"[R]ock, [S]cissors, [P]aper or [E]xit\")\n",
    "        continue\n",
    "\n",
    "    # Print the user's choice\n",
    "    print (\"You chose: \" + userChoice)\n",
    "\n",
    "    # Check if user wants to exit\n",
    "    if (userChoice == 'E' or userChoice == 'e' ):\n",
    "        print('Exiting Game..')\n",
    "        break\n",
    "\n",
    "    # Create a list of possible choices\n",
    "    choices = ['R', 'P', 'S']\n",
    "    \n",
    "    # Generating Computer's Choice\n",
    "    opponenetChoice = random.choice(choices)\n",
    "    \n",
    "    # Print Computer's Choice\n",
    "    print (\"I chose: \" + opponenetChoice)\n",
    "\n",
    "    # Check Computer's Choice and user's Choice by applying game logic\n",
    "    \n",
    "    if opponenetChoice == str.upper(userChoice):         # If both chose same value, it's a tie\n",
    "        print (\"Tie! \")\n",
    "    \n",
    "    elif opponenetChoice == 'R' and userChoice.upper() == 'S':            # Rock Vs Scissor - Rock/computer Wins\n",
    "        print (\"Scissors beats rock, I win! \")\n",
    "        continue\n",
    "    elif opponenetChoice == 'S' and userChoice.upper() == 'P':            # Scissor Vs Paper - Paper/computer Wins\n",
    "        print (\"Scissors beats paper! I win! \")\n",
    "        continue\n",
    "    elif opponenetChoice == 'P' and userChoice.upper() == 'R':            # Paper Vs Rock - Paper/computer Wins\n",
    "        print (\"Paper beat rock, I win! \")\n",
    "        continue\n",
    "    else:                                                                 # In all the other cases, user wins!\n",
    "        print (\"You win!\")"
   ]
  },
  {
   "cell_type": "markdown",
   "metadata": {},
   "source": [
    "## Author\n"
   ]
  },
  {
   "cell_type": "markdown",
   "metadata": {},
   "source": [
    "[Chandrika M](https://www.linkedin.com/in/chandrika-murali-b9a06029/?utm_medium=Exinfluencer&utm_source=Exinfluencer&utm_content=000026UJ&utm_term=10006555&utm_id=NA-SkillsNetwork-Channel-SkillsNetworkQuickLabsIBMGPXX0T15EN38051942-2022-01-01)\n"
   ]
  },
  {
   "cell_type": "markdown",
   "metadata": {},
   "source": [
    "## Change Log\n"
   ]
  },
  {
   "cell_type": "markdown",
   "metadata": {},
   "source": [
    "| Date (YYYY-MM-DD) | Version | Changed By  | Change Description  |\n",
    "| ----------------- | ------- | ----------- | ------------------- |\n",
    "| 2022-07-24        | 0.1     | Chandrika M | Create Lab Template |\n"
   ]
  },
  {
   "cell_type": "markdown",
   "metadata": {},
   "source": [
    "Copyright © 2022 IBM Corporation. All rights reserved.\n"
   ]
  }
 ],
 "metadata": {
  "kernelspec": {
   "display_name": "Python",
   "language": "python",
   "name": "conda-env-python-py"
  },
  "language_info": {
   "codemirror_mode": {
    "name": "ipython",
    "version": 3
   },
   "file_extension": ".py",
   "mimetype": "text/x-python",
   "name": "python",
   "nbconvert_exporter": "python",
   "pygments_lexer": "ipython3",
   "version": "3.7.12"
  }
 },
 "nbformat": 4,
 "nbformat_minor": 4
}
